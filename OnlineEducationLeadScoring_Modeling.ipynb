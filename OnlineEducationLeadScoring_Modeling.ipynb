{
  "nbformat": 4,
  "nbformat_minor": 0,
  "metadata": {
    "colab": {
      "name": "OnlineEducationLeadScoring_Modeling.ipynb",
      "provenance": [],
      "collapsed_sections": []
    },
    "kernelspec": {
      "name": "python3",
      "display_name": "Python 3"
    }
  },
  "cells": [
    {
      "cell_type": "code",
      "metadata": {
        "colab": {
          "base_uri": "https://localhost:8080/"
        },
        "id": "T0IumOETAKDn",
        "outputId": "fb4ee4ba-a625-4cdc-ec5a-0ec41e9ee43d"
      },
      "source": [
        "from google.colab import drive\r\n",
        "drive.mount('/content/drive/')\r\n",
        "%cd /content/drive/My Drive/Colab Notebooks/data/upgrad/SEM2/LogisticAssignment_LeadScoring/"
      ],
      "execution_count": null,
      "outputs": [
        {
          "output_type": "stream",
          "text": [
            "Drive already mounted at /content/drive/; to attempt to forcibly remount, call drive.mount(\"/content/drive/\", force_remount=True).\n",
            "/content/drive/My Drive/Colab Notebooks/data/upgrad/SEM2/LogisticAssignment_LeadScoring\n"
          ],
          "name": "stdout"
        }
      ]
    },
    {
      "cell_type": "code",
      "metadata": {
        "id": "BXwjfB2cnVy3",
        "colab": {
          "base_uri": "https://localhost:8080/"
        },
        "outputId": "68d361f2-94cb-4cec-bb87-e4cf7440f323"
      },
      "source": [
        "# Imports\n",
        "\n",
        "!pip install scikit-learn==0.24.1 category_encoders\n",
        "import warnings\n",
        "warnings.filterwarnings('ignore')\n",
        "\n",
        "import pandas as pd\n",
        "from pandas import DataFrame\n",
        "pd.set_option(\"display.max_columns\", 300)\n",
        "pd.set_option(\"display.max_rows\", 300)\n",
        "import numpy as np\n",
        "import matplotlib.pyplot as plt\n",
        "import seaborn as sns\n",
        "import category_encoders as ce\n",
        "import time\n",
        "import string\n",
        "import re\n",
        "from scipy import sparse\n",
        "from joblib import Parallel\n",
        "\n",
        "import statsmodels.api as sm\n",
        "from statsmodels.stats.outliers_influence import variance_inflation_factor\n",
        "\n",
        "from sklearn.ensemble import RandomForestRegressor, RandomForestClassifier,GradientBoostingClassifier\n",
        "from sklearn.metrics import roc_auc_score, classification_report, confusion_matrix, precision_score, recall_score, accuracy_score, f1_score,r2_score, mean_squared_error\n",
        "from sklearn.linear_model import LogisticRegression,LinearRegression\n",
        "from sklearn.feature_selection import RFE, SelectKBest, chi2, f_classif\n",
        "from sklearn.preprocessing import MinMaxScaler, StandardScaler, LabelEncoder, OneHotEncoder, FunctionTransformer, RobustScaler\n",
        "from sklearn.model_selection import train_test_split, GridSearchCV, RandomizedSearchCV\n",
        "from sklearn.utils.fixes import delayed\n",
        "from sklearn.pipeline import Pipeline, FeatureUnion\n",
        "from sklearn import pipeline\n",
        "from sklearn import metrics\n",
        "from sklearn.feature_extraction.text import TfidfVectorizer, CountVectorizer\n",
        "from sklearn.base import BaseEstimator, TransformerMixin"
      ],
      "execution_count": null,
      "outputs": [
        {
          "output_type": "stream",
          "text": [
            "Requirement already satisfied: scikit-learn==0.24.1 in /usr/local/lib/python3.7/dist-packages (0.24.1)\n",
            "Requirement already satisfied: category_encoders in /usr/local/lib/python3.7/dist-packages (2.2.2)\n",
            "Requirement already satisfied: numpy>=1.13.3 in /usr/local/lib/python3.7/dist-packages (from scikit-learn==0.24.1) (1.19.5)\n",
            "Requirement already satisfied: threadpoolctl>=2.0.0 in /usr/local/lib/python3.7/dist-packages (from scikit-learn==0.24.1) (2.1.0)\n",
            "Requirement already satisfied: joblib>=0.11 in /usr/local/lib/python3.7/dist-packages (from scikit-learn==0.24.1) (1.0.1)\n",
            "Requirement already satisfied: scipy>=0.19.1 in /usr/local/lib/python3.7/dist-packages (from scikit-learn==0.24.1) (1.4.1)\n",
            "Requirement already satisfied: patsy>=0.5.1 in /usr/local/lib/python3.7/dist-packages (from category_encoders) (0.5.1)\n",
            "Requirement already satisfied: statsmodels>=0.9.0 in /usr/local/lib/python3.7/dist-packages (from category_encoders) (0.10.2)\n",
            "Requirement already satisfied: pandas>=0.21.1 in /usr/local/lib/python3.7/dist-packages (from category_encoders) (1.1.5)\n",
            "Requirement already satisfied: six in /usr/local/lib/python3.7/dist-packages (from patsy>=0.5.1->category_encoders) (1.15.0)\n",
            "Requirement already satisfied: pytz>=2017.2 in /usr/local/lib/python3.7/dist-packages (from pandas>=0.21.1->category_encoders) (2018.9)\n",
            "Requirement already satisfied: python-dateutil>=2.7.3 in /usr/local/lib/python3.7/dist-packages (from pandas>=0.21.1->category_encoders) (2.8.1)\n"
          ],
          "name": "stdout"
        }
      ]
    },
    {
      "cell_type": "code",
      "metadata": {
        "id": "UctJVTcRnsLN"
      },
      "source": [
        "# Function for printing different scores\r\n",
        "def print_scores(model, X_test, y_test, mode='Test'):\r\n",
        "  from sklearn.metrics import precision_score, recall_score, confusion_matrix, classification_report, accuracy_score, f1_score, roc_auc_score\r\n",
        "\r\n",
        "  print(f\"\\n {mode} Set ROC AUC: \".format(mode), round(roc_auc_score(y_test, model.predict_proba(X_test)[:,1]),2))\r\n",
        "  print(f'\\n Clasification Report on {mode} Set:\\n'.format(mode), classification_report(y_test,model.predict(X_test)))\r\n",
        "  print(f'\\n Confussion Matrix:\\n',confusion_matrix(y_test, model.predict(X_test)))"
      ],
      "execution_count": null,
      "outputs": []
    },
    {
      "cell_type": "code",
      "metadata": {
        "id": "RONGfMbqyGXt"
      },
      "source": [
        "# Defining encoder/transformer classes\r\n",
        "\r\n",
        "class FeatureUnionPandas(FeatureUnion):\r\n",
        "\r\n",
        "    def merge_dataframes_by_column(self, Xs):\r\n",
        "        return pd.concat(Xs, axis=\"columns\", copy=False)\r\n",
        "\r\n",
        "    def transform(self, X):\r\n",
        "#         from joblib import Parallel\r\n",
        "#         from sklearn.utils.fixes import delayed\r\n",
        "       \r\n",
        "        Xs = Parallel(n_jobs=self.n_jobs)(\r\n",
        "            delayed(pipeline._transform_one)(trans, X, None, weight)\r\n",
        "            for name, trans, weight in self._iter())\r\n",
        "        if not Xs:\r\n",
        "            # All transformers are None\r\n",
        "            return np.zeros((X.shape[0], 0))\r\n",
        "       \r\n",
        "        # print(\"Processing FeatureUnion at:\", round(time.time()/60)%1000, 'minutes')\r\n",
        "       \r\n",
        "        if any(sparse.issparse(f) for f in Xs):\r\n",
        "            Xs = sparse.hstack(Xs).tocsr()\r\n",
        "        else:\r\n",
        "            Xs = self.merge_dataframes_by_column(Xs)\r\n",
        "        return Xs\r\n",
        "   \r\n",
        "    def fit_transform(self, X, y=None, **fit_params):\r\n",
        "       \r\n",
        "        results = self._parallel_func(X, y, fit_params, pipeline._fit_transform_one)\r\n",
        "\r\n",
        "        if not results:\r\n",
        "            # All transformers are None\r\n",
        "            return np.zeros((X.shape[0], 0))\r\n",
        "       \r\n",
        "        # print(\"Processing FeatureUnion at:\", round(time.time()/60)%1000, 'minutes')\r\n",
        "       \r\n",
        "        Xs, transformers = zip(*results)\r\n",
        "       \r\n",
        "        self._update_transformer_list(transformers)\r\n",
        "       \r\n",
        "        if any(sparse.issparse(f) for f in Xs):\r\n",
        "            Xs = sparse.hstack(Xs).tocsr()\r\n",
        "        else:\r\n",
        "            Xs = self.merge_dataframes_by_column(Xs)\r\n",
        "        return Xs\r\n",
        "\r\n",
        "\r\n",
        "class RareLabelCategoricalEncoder(BaseEstimator, TransformerMixin):\r\n",
        "    \"\"\"Rare label categorical encoder\"\"\"\r\n",
        "\r\n",
        "    def __init__(self, variables=None, tol=0.001):\r\n",
        "        self.tol = tol\r\n",
        "        self.variables = variables\r\n",
        "\r\n",
        "    def fit(self, X, y=None):\r\n",
        "\r\n",
        "        if not isinstance(self.variables, list):\r\n",
        "            self.variables = sorted([self.variables])\r\n",
        "        else:\r\n",
        "            self.variables = sorted(self.variables)\r\n",
        "           \r\n",
        "        # for compatibility with ColumnTransformer\r\n",
        "        if self.variables == [None]:\r\n",
        "            self.variables = X.columns\r\n",
        "           \r\n",
        "        # persist frequent labels in dictionary\r\n",
        "        self.encoder_dict_ = {}\r\n",
        "\r\n",
        "        X = X[self.variables].copy()\r\n",
        "        for var in self.variables:\r\n",
        "            X[var] = X[var].replace(r'^\\s*$', np.nan, regex=True).fillna('ZZ').astype('str')\r\n",
        "            # the encoder will learn the most frequent categories\r\n",
        "            t = pd.Series(X[var].value_counts() / np.float(len(X)))\r\n",
        "            # frequent labels:\r\n",
        "            self.encoder_dict_[var] = list(t[t >= self.tol].index)\r\n",
        "\r\n",
        "        return self\r\n",
        "\r\n",
        "    def transform(self, X):\r\n",
        "        # print(\"Processing RareLabelCategoricalEncoder at:\", round(time.time()/60)%1000, 'minutes')\r\n",
        "       \r\n",
        "        X = X[self.variables].copy()\r\n",
        "        for feature in self.variables:\r\n",
        "            X[feature] = X[feature].replace(r'^\\s*$', np.nan, regex=True).fillna('missing_value').astype('str')\r\n",
        "            X[feature] = np.where(X[feature].isin(self.encoder_dict_[feature]), X[feature], 'Rare')\r\n",
        "        return X\r\n",
        "\r\n",
        "\r\n",
        "class StandardScalerPandas(BaseEstimator, TransformerMixin):\r\n",
        "   \r\n",
        "    def __init__(self):\r\n",
        "        None\r\n",
        "       \r\n",
        "    def fit(self, X, y=None):\r\n",
        "       \r\n",
        "        self.columns = X.columns\r\n",
        "        self.scaler = StandardScaler() #RobustScaler(unit_variance=True)\r\n",
        "        self.scaler.fit(X)\r\n",
        "       \r\n",
        "        return self\r\n",
        "   \r\n",
        "    def transform(self, X):\r\n",
        "       \r\n",
        "        X = X.copy()\r\n",
        "        index = X.index.values\r\n",
        "        X = DataFrame(self.scaler.transform(X), index = index, columns = self.columns)\r\n",
        "       \r\n",
        "        return X\r\n",
        "\r\n",
        "# Numeric class\r\n",
        "\r\n",
        "class num_cleanup(BaseEstimator, TransformerMixin):\r\n",
        "  def __init__(self, all_variables=None, replacing_char=None, min_variables=None, max_variables=None, \r\n",
        "               zerofill_variables=None, mean_variables=None, median_variables=None,\r\n",
        "               capping_list = None, upper_cap_pct = 1, lower_cap_pct = 0):\r\n",
        "    self.replacing_char = replacing_char\r\n",
        "    self.min_variables = min_variables\r\n",
        "    self.max_variables = max_variables\r\n",
        "    self.zerofill_variables = zerofill_variables\r\n",
        "    self.mean_variables = mean_variables\r\n",
        "    self.median_variables = median_variables\r\n",
        "    self.all_variables = all_variables\r\n",
        "    self.capping_list = capping_list\r\n",
        "    self.upper_cap_pct = upper_cap_pct\r\n",
        "    self.lower_cap_pct = lower_cap_pct\r\n",
        "\r\n",
        "\r\n",
        "  def fit(self, X, y=None):\r\n",
        "\r\n",
        "    if self.all_variables == None:\r\n",
        "      self.all_variables = X.select_dtypes(exclude = \"O\").columns\r\n",
        "\r\n",
        "    X = X[self.all_variables].copy() \r\n",
        "    self.X_min = X.min()\r\n",
        "    self.X_max = X.max()\r\n",
        "    self.X_mean = X.mean()\r\n",
        "    self.X_median = X.median()\r\n",
        "    self.X_upper_quantile = X.quantile(self.upper_cap_pct)\r\n",
        "    self.X_lower_quantile = X.quantile(self.lower_cap_pct)\r\n",
        "    return self\r\n",
        "\r\n",
        "  def transform(self, X):\r\n",
        "    X = X[self.all_variables].copy() \r\n",
        "    if self.replacing_char is not None:\r\n",
        "      X = X.replace({self.replacing_char: np.nan})\r\n",
        "    if self.min_variables is not None:\r\n",
        "      X[self.min_variables] = X[self.min_variables].fillna(self.X_min[self.min_variables])\r\n",
        "    if self.max_variables is not None:\r\n",
        "      X[self.max_variables] = X[self.max_variables].fillna(self.X_max[self.max_variables])\r\n",
        "    if self.zerofill_variables is not None:\r\n",
        "      X[self.zerofill_variables] = X[self.zerofill_variables].fillna(0)\r\n",
        "    if self.mean_variables is not None:\r\n",
        "      X[self.mean_variables] = X[self.mean_variables].fillna(self.X_mean[self.mean_variables])\r\n",
        "    if self.median_variables is not None:\r\n",
        "      X[self.median_variables] = X[self.median_variables].fillna(self.X_median[self.median_variables])\r\n",
        "      X = X.fillna(self.X_median)\r\n",
        "    if self.capping_list is not None:\r\n",
        "      X[self.capping_list] = X[self.capping_list].clip(upper = self.X_upper_quantile, lower = self.X_lower_quantile, axis = 1)\r\n",
        "\r\n",
        "    return X"
      ],
      "execution_count": null,
      "outputs": []
    },
    {
      "cell_type": "code",
      "metadata": {
        "id": "d2N19uJrnY1S",
        "colab": {
          "base_uri": "https://localhost:8080/",
          "height": 547
        },
        "outputId": "f94ead11-6339-47e3-d5d1-242142fe9789"
      },
      "source": [
        "# Importing dataset\n",
        "leads = pd.read_csv(\"Leads.csv\")\n",
        "leads.head()"
      ],
      "execution_count": null,
      "outputs": [
        {
          "output_type": "execute_result",
          "data": {
            "text/html": [
              "<div>\n",
              "<style scoped>\n",
              "    .dataframe tbody tr th:only-of-type {\n",
              "        vertical-align: middle;\n",
              "    }\n",
              "\n",
              "    .dataframe tbody tr th {\n",
              "        vertical-align: top;\n",
              "    }\n",
              "\n",
              "    .dataframe thead th {\n",
              "        text-align: right;\n",
              "    }\n",
              "</style>\n",
              "<table border=\"1\" class=\"dataframe\">\n",
              "  <thead>\n",
              "    <tr style=\"text-align: right;\">\n",
              "      <th></th>\n",
              "      <th>Prospect ID</th>\n",
              "      <th>Lead Number</th>\n",
              "      <th>Lead Origin</th>\n",
              "      <th>Lead Source</th>\n",
              "      <th>Do Not Email</th>\n",
              "      <th>Do Not Call</th>\n",
              "      <th>Converted</th>\n",
              "      <th>TotalVisits</th>\n",
              "      <th>Total Time Spent on Website</th>\n",
              "      <th>Page Views Per Visit</th>\n",
              "      <th>Last Activity</th>\n",
              "      <th>Country</th>\n",
              "      <th>Specialization</th>\n",
              "      <th>How did you hear about X Education</th>\n",
              "      <th>What is your current occupation</th>\n",
              "      <th>What matters most to you in choosing a course</th>\n",
              "      <th>Search</th>\n",
              "      <th>Magazine</th>\n",
              "      <th>Newspaper Article</th>\n",
              "      <th>X Education Forums</th>\n",
              "      <th>Newspaper</th>\n",
              "      <th>Digital Advertisement</th>\n",
              "      <th>Through Recommendations</th>\n",
              "      <th>Receive More Updates About Our Courses</th>\n",
              "      <th>Tags</th>\n",
              "      <th>Lead Quality</th>\n",
              "      <th>Update me on Supply Chain Content</th>\n",
              "      <th>Get updates on DM Content</th>\n",
              "      <th>Lead Profile</th>\n",
              "      <th>City</th>\n",
              "      <th>Asymmetrique Activity Index</th>\n",
              "      <th>Asymmetrique Profile Index</th>\n",
              "      <th>Asymmetrique Activity Score</th>\n",
              "      <th>Asymmetrique Profile Score</th>\n",
              "      <th>I agree to pay the amount through cheque</th>\n",
              "      <th>A free copy of Mastering The Interview</th>\n",
              "      <th>Last Notable Activity</th>\n",
              "    </tr>\n",
              "  </thead>\n",
              "  <tbody>\n",
              "    <tr>\n",
              "      <th>0</th>\n",
              "      <td>7927b2df-8bba-4d29-b9a2-b6e0beafe620</td>\n",
              "      <td>660737</td>\n",
              "      <td>API</td>\n",
              "      <td>Olark Chat</td>\n",
              "      <td>No</td>\n",
              "      <td>No</td>\n",
              "      <td>0</td>\n",
              "      <td>0.0</td>\n",
              "      <td>0</td>\n",
              "      <td>0.0</td>\n",
              "      <td>Page Visited on Website</td>\n",
              "      <td>NaN</td>\n",
              "      <td>Select</td>\n",
              "      <td>Select</td>\n",
              "      <td>Unemployed</td>\n",
              "      <td>Better Career Prospects</td>\n",
              "      <td>No</td>\n",
              "      <td>No</td>\n",
              "      <td>No</td>\n",
              "      <td>No</td>\n",
              "      <td>No</td>\n",
              "      <td>No</td>\n",
              "      <td>No</td>\n",
              "      <td>No</td>\n",
              "      <td>Interested in other courses</td>\n",
              "      <td>Low in Relevance</td>\n",
              "      <td>No</td>\n",
              "      <td>No</td>\n",
              "      <td>Select</td>\n",
              "      <td>Select</td>\n",
              "      <td>02.Medium</td>\n",
              "      <td>02.Medium</td>\n",
              "      <td>15.0</td>\n",
              "      <td>15.0</td>\n",
              "      <td>No</td>\n",
              "      <td>No</td>\n",
              "      <td>Modified</td>\n",
              "    </tr>\n",
              "    <tr>\n",
              "      <th>1</th>\n",
              "      <td>2a272436-5132-4136-86fa-dcc88c88f482</td>\n",
              "      <td>660728</td>\n",
              "      <td>API</td>\n",
              "      <td>Organic Search</td>\n",
              "      <td>No</td>\n",
              "      <td>No</td>\n",
              "      <td>0</td>\n",
              "      <td>5.0</td>\n",
              "      <td>674</td>\n",
              "      <td>2.5</td>\n",
              "      <td>Email Opened</td>\n",
              "      <td>India</td>\n",
              "      <td>Select</td>\n",
              "      <td>Select</td>\n",
              "      <td>Unemployed</td>\n",
              "      <td>Better Career Prospects</td>\n",
              "      <td>No</td>\n",
              "      <td>No</td>\n",
              "      <td>No</td>\n",
              "      <td>No</td>\n",
              "      <td>No</td>\n",
              "      <td>No</td>\n",
              "      <td>No</td>\n",
              "      <td>No</td>\n",
              "      <td>Ringing</td>\n",
              "      <td>NaN</td>\n",
              "      <td>No</td>\n",
              "      <td>No</td>\n",
              "      <td>Select</td>\n",
              "      <td>Select</td>\n",
              "      <td>02.Medium</td>\n",
              "      <td>02.Medium</td>\n",
              "      <td>15.0</td>\n",
              "      <td>15.0</td>\n",
              "      <td>No</td>\n",
              "      <td>No</td>\n",
              "      <td>Email Opened</td>\n",
              "    </tr>\n",
              "    <tr>\n",
              "      <th>2</th>\n",
              "      <td>8cc8c611-a219-4f35-ad23-fdfd2656bd8a</td>\n",
              "      <td>660727</td>\n",
              "      <td>Landing Page Submission</td>\n",
              "      <td>Direct Traffic</td>\n",
              "      <td>No</td>\n",
              "      <td>No</td>\n",
              "      <td>1</td>\n",
              "      <td>2.0</td>\n",
              "      <td>1532</td>\n",
              "      <td>2.0</td>\n",
              "      <td>Email Opened</td>\n",
              "      <td>India</td>\n",
              "      <td>Business Administration</td>\n",
              "      <td>Select</td>\n",
              "      <td>Student</td>\n",
              "      <td>Better Career Prospects</td>\n",
              "      <td>No</td>\n",
              "      <td>No</td>\n",
              "      <td>No</td>\n",
              "      <td>No</td>\n",
              "      <td>No</td>\n",
              "      <td>No</td>\n",
              "      <td>No</td>\n",
              "      <td>No</td>\n",
              "      <td>Will revert after reading the email</td>\n",
              "      <td>Might be</td>\n",
              "      <td>No</td>\n",
              "      <td>No</td>\n",
              "      <td>Potential Lead</td>\n",
              "      <td>Mumbai</td>\n",
              "      <td>02.Medium</td>\n",
              "      <td>01.High</td>\n",
              "      <td>14.0</td>\n",
              "      <td>20.0</td>\n",
              "      <td>No</td>\n",
              "      <td>Yes</td>\n",
              "      <td>Email Opened</td>\n",
              "    </tr>\n",
              "    <tr>\n",
              "      <th>3</th>\n",
              "      <td>0cc2df48-7cf4-4e39-9de9-19797f9b38cc</td>\n",
              "      <td>660719</td>\n",
              "      <td>Landing Page Submission</td>\n",
              "      <td>Direct Traffic</td>\n",
              "      <td>No</td>\n",
              "      <td>No</td>\n",
              "      <td>0</td>\n",
              "      <td>1.0</td>\n",
              "      <td>305</td>\n",
              "      <td>1.0</td>\n",
              "      <td>Unreachable</td>\n",
              "      <td>India</td>\n",
              "      <td>Media and Advertising</td>\n",
              "      <td>Word Of Mouth</td>\n",
              "      <td>Unemployed</td>\n",
              "      <td>Better Career Prospects</td>\n",
              "      <td>No</td>\n",
              "      <td>No</td>\n",
              "      <td>No</td>\n",
              "      <td>No</td>\n",
              "      <td>No</td>\n",
              "      <td>No</td>\n",
              "      <td>No</td>\n",
              "      <td>No</td>\n",
              "      <td>Ringing</td>\n",
              "      <td>Not Sure</td>\n",
              "      <td>No</td>\n",
              "      <td>No</td>\n",
              "      <td>Select</td>\n",
              "      <td>Mumbai</td>\n",
              "      <td>02.Medium</td>\n",
              "      <td>01.High</td>\n",
              "      <td>13.0</td>\n",
              "      <td>17.0</td>\n",
              "      <td>No</td>\n",
              "      <td>No</td>\n",
              "      <td>Modified</td>\n",
              "    </tr>\n",
              "    <tr>\n",
              "      <th>4</th>\n",
              "      <td>3256f628-e534-4826-9d63-4a8b88782852</td>\n",
              "      <td>660681</td>\n",
              "      <td>Landing Page Submission</td>\n",
              "      <td>Google</td>\n",
              "      <td>No</td>\n",
              "      <td>No</td>\n",
              "      <td>1</td>\n",
              "      <td>2.0</td>\n",
              "      <td>1428</td>\n",
              "      <td>1.0</td>\n",
              "      <td>Converted to Lead</td>\n",
              "      <td>India</td>\n",
              "      <td>Select</td>\n",
              "      <td>Other</td>\n",
              "      <td>Unemployed</td>\n",
              "      <td>Better Career Prospects</td>\n",
              "      <td>No</td>\n",
              "      <td>No</td>\n",
              "      <td>No</td>\n",
              "      <td>No</td>\n",
              "      <td>No</td>\n",
              "      <td>No</td>\n",
              "      <td>No</td>\n",
              "      <td>No</td>\n",
              "      <td>Will revert after reading the email</td>\n",
              "      <td>Might be</td>\n",
              "      <td>No</td>\n",
              "      <td>No</td>\n",
              "      <td>Select</td>\n",
              "      <td>Mumbai</td>\n",
              "      <td>02.Medium</td>\n",
              "      <td>01.High</td>\n",
              "      <td>15.0</td>\n",
              "      <td>18.0</td>\n",
              "      <td>No</td>\n",
              "      <td>No</td>\n",
              "      <td>Modified</td>\n",
              "    </tr>\n",
              "  </tbody>\n",
              "</table>\n",
              "</div>"
            ],
            "text/plain": [
              "                            Prospect ID  Lead Number              Lead Origin  \\\n",
              "0  7927b2df-8bba-4d29-b9a2-b6e0beafe620       660737                      API   \n",
              "1  2a272436-5132-4136-86fa-dcc88c88f482       660728                      API   \n",
              "2  8cc8c611-a219-4f35-ad23-fdfd2656bd8a       660727  Landing Page Submission   \n",
              "3  0cc2df48-7cf4-4e39-9de9-19797f9b38cc       660719  Landing Page Submission   \n",
              "4  3256f628-e534-4826-9d63-4a8b88782852       660681  Landing Page Submission   \n",
              "\n",
              "      Lead Source Do Not Email Do Not Call  Converted  TotalVisits  \\\n",
              "0      Olark Chat           No          No          0          0.0   \n",
              "1  Organic Search           No          No          0          5.0   \n",
              "2  Direct Traffic           No          No          1          2.0   \n",
              "3  Direct Traffic           No          No          0          1.0   \n",
              "4          Google           No          No          1          2.0   \n",
              "\n",
              "   Total Time Spent on Website  Page Views Per Visit            Last Activity  \\\n",
              "0                            0                   0.0  Page Visited on Website   \n",
              "1                          674                   2.5             Email Opened   \n",
              "2                         1532                   2.0             Email Opened   \n",
              "3                          305                   1.0              Unreachable   \n",
              "4                         1428                   1.0        Converted to Lead   \n",
              "\n",
              "  Country           Specialization How did you hear about X Education  \\\n",
              "0     NaN                   Select                             Select   \n",
              "1   India                   Select                             Select   \n",
              "2   India  Business Administration                             Select   \n",
              "3   India    Media and Advertising                      Word Of Mouth   \n",
              "4   India                   Select                              Other   \n",
              "\n",
              "  What is your current occupation  \\\n",
              "0                      Unemployed   \n",
              "1                      Unemployed   \n",
              "2                         Student   \n",
              "3                      Unemployed   \n",
              "4                      Unemployed   \n",
              "\n",
              "  What matters most to you in choosing a course Search Magazine  \\\n",
              "0                       Better Career Prospects     No       No   \n",
              "1                       Better Career Prospects     No       No   \n",
              "2                       Better Career Prospects     No       No   \n",
              "3                       Better Career Prospects     No       No   \n",
              "4                       Better Career Prospects     No       No   \n",
              "\n",
              "  Newspaper Article X Education Forums Newspaper Digital Advertisement  \\\n",
              "0                No                 No        No                    No   \n",
              "1                No                 No        No                    No   \n",
              "2                No                 No        No                    No   \n",
              "3                No                 No        No                    No   \n",
              "4                No                 No        No                    No   \n",
              "\n",
              "  Through Recommendations Receive More Updates About Our Courses  \\\n",
              "0                      No                                     No   \n",
              "1                      No                                     No   \n",
              "2                      No                                     No   \n",
              "3                      No                                     No   \n",
              "4                      No                                     No   \n",
              "\n",
              "                                  Tags      Lead Quality  \\\n",
              "0          Interested in other courses  Low in Relevance   \n",
              "1                              Ringing               NaN   \n",
              "2  Will revert after reading the email          Might be   \n",
              "3                              Ringing          Not Sure   \n",
              "4  Will revert after reading the email          Might be   \n",
              "\n",
              "  Update me on Supply Chain Content Get updates on DM Content    Lead Profile  \\\n",
              "0                                No                        No          Select   \n",
              "1                                No                        No          Select   \n",
              "2                                No                        No  Potential Lead   \n",
              "3                                No                        No          Select   \n",
              "4                                No                        No          Select   \n",
              "\n",
              "     City Asymmetrique Activity Index Asymmetrique Profile Index  \\\n",
              "0  Select                   02.Medium                  02.Medium   \n",
              "1  Select                   02.Medium                  02.Medium   \n",
              "2  Mumbai                   02.Medium                    01.High   \n",
              "3  Mumbai                   02.Medium                    01.High   \n",
              "4  Mumbai                   02.Medium                    01.High   \n",
              "\n",
              "   Asymmetrique Activity Score  Asymmetrique Profile Score  \\\n",
              "0                         15.0                        15.0   \n",
              "1                         15.0                        15.0   \n",
              "2                         14.0                        20.0   \n",
              "3                         13.0                        17.0   \n",
              "4                         15.0                        18.0   \n",
              "\n",
              "  I agree to pay the amount through cheque  \\\n",
              "0                                       No   \n",
              "1                                       No   \n",
              "2                                       No   \n",
              "3                                       No   \n",
              "4                                       No   \n",
              "\n",
              "  A free copy of Mastering The Interview Last Notable Activity  \n",
              "0                                     No              Modified  \n",
              "1                                     No          Email Opened  \n",
              "2                                    Yes          Email Opened  \n",
              "3                                     No              Modified  \n",
              "4                                     No              Modified  "
            ]
          },
          "metadata": {
            "tags": []
          },
          "execution_count": 64
        }
      ]
    },
    {
      "cell_type": "code",
      "metadata": {
        "id": "GLLZqO9Y3bR7"
      },
      "source": [
        "# Dropping the following columns because this is the data collected by the sales team after contacting potential leads.\n",
        "leads = leads.drop([\"Tags\", \"Lead Profile\", \"Lead Quality\",\"Asymmetrique Activity Index\", \"Asymmetrique Profile Index\", \"Asymmetrique Activity Score\", \n",
        "                \"Asymmetrique Profile Score\"],axis = 1)\n",
        "\n",
        "# Setting \"Lead Number as the index\"\n",
        "leads = leads.set_index(\"Lead Number\")\n",
        "\n",
        "# Replacing \"Select\" present in categorical variables with NaN\n",
        "leads = leads.replace(\"Select\",np.NaN)\n",
        "\n",
        "# Converting Binary Variables (Yes/No) to (1/0)\n",
        "\n",
        "# List of variables to map\n",
        "varlist =  ['Do Not Email', 'Do Not Call', 'Search', 'Magazine', 'Newspaper Article', 'X Education Forums', 'Newspaper','Digital Advertisement','Through Recommendations','Receive More Updates About Our Courses','Update me on Supply Chain Content','Get updates on DM Content','I agree to pay the amount through cheque','A free copy of Mastering The Interview']\n",
        "\n",
        "# Defining the map function\n",
        "def binary_map(x):\n",
        "    return x.map({'Yes': 1, 'No': 0})\n",
        "\n",
        "# Applying the function to the varlist\n",
        "leads[varlist] = leads[varlist].apply(binary_map)\n",
        "\n",
        "# Adding \"How did you hear about X Education\" to 'cols_to_drop' list as it has 78.46% missing values as seen in EDA\n",
        "cols_to_drop = [\"How did you hear about X Education\"]"
      ],
      "execution_count": null,
      "outputs": []
    },
    {
      "cell_type": "code",
      "metadata": {
        "id": "O9cJMV_m1YV9"
      },
      "source": [
        "mean_cols = [\"TotalVisits\",\"Page Views Per Visit\"]"
      ],
      "execution_count": null,
      "outputs": []
    },
    {
      "cell_type": "markdown",
      "metadata": {
        "id": "0RTM7Bdhtwax"
      },
      "source": [
        "All the remaining null values in categorical variables will be replaced with \"missing_value\""
      ]
    },
    {
      "cell_type": "markdown",
      "metadata": {
        "id": "1z71eDf3HShN"
      },
      "source": [
        "###Investigating numeric variables\n"
      ]
    },
    {
      "cell_type": "code",
      "metadata": {
        "id": "DgrtG5bWGNuo",
        "colab": {
          "base_uri": "https://localhost:8080/"
        },
        "outputId": "b035654e-cfcc-4e27-9bd2-6f9f57066b46"
      },
      "source": [
        "leads.select_dtypes(include = \"number\").isnull().mean().sort_values(ascending = False)*100"
      ],
      "execution_count": null,
      "outputs": [
        {
          "output_type": "execute_result",
          "data": {
            "text/plain": [
              "TotalVisits                                 1.482684\n",
              "Page Views Per Visit                        1.482684\n",
              "A free copy of Mastering The Interview      0.000000\n",
              "I agree to pay the amount through cheque    0.000000\n",
              "Do Not Call                                 0.000000\n",
              "Converted                                   0.000000\n",
              "Total Time Spent on Website                 0.000000\n",
              "Search                                      0.000000\n",
              "Magazine                                    0.000000\n",
              "Newspaper Article                           0.000000\n",
              "X Education Forums                          0.000000\n",
              "Newspaper                                   0.000000\n",
              "Digital Advertisement                       0.000000\n",
              "Through Recommendations                     0.000000\n",
              "Receive More Updates About Our Courses      0.000000\n",
              "Update me on Supply Chain Content           0.000000\n",
              "Get updates on DM Content                   0.000000\n",
              "Do Not Email                                0.000000\n",
              "dtype: float64"
            ]
          },
          "metadata": {
            "tags": []
          },
          "execution_count": 67
        }
      ]
    },
    {
      "cell_type": "markdown",
      "metadata": {
        "id": "a8th9K7QvsIj"
      },
      "source": [
        "All the null values in the numeric variables will be replaced with their respective column's mean value"
      ]
    },
    {
      "cell_type": "code",
      "metadata": {
        "id": "5rmj-ecbHjoH"
      },
      "source": [
        "# Adding binary columns with low mean (less than 1%) to 'cols_to_drop' list as it shows that there is low variance in the data\n",
        "\n",
        "cols_to_drop += [\"Magazine\", \"Receive More Updates About Our Courses\", \"Update me on Supply Chain Content\", \"Get updates on DM Content\",\n",
        "                \"I agree to pay the amount through cheque\",\"X Education Forums\", \"Newspaper\", \"Do Not Call\",\"Newspaper Article\",\n",
        "                \"Digital Advertisement\",\"Through Recommendations\", \"Search\"]\n",
        "\n",
        "# Adding 'Prospect ID' to cols_to_drop\n",
        "cols_to_drop += [\"Prospect ID\"]"
      ],
      "execution_count": null,
      "outputs": []
    },
    {
      "cell_type": "code",
      "metadata": {
        "id": "6vrGBNx3HkOo",
        "colab": {
          "base_uri": "https://localhost:8080/",
          "height": 527
        },
        "outputId": "1ca9dea3-d0b5-4d0c-f22f-b6e441a1023f"
      },
      "source": [
        "# Dropping columns added to cols_to_drop \n",
        "leads1 = leads.drop(cols_to_drop, axis = 1)\n",
        "\n",
        "leads1.head()"
      ],
      "execution_count": null,
      "outputs": [
        {
          "output_type": "execute_result",
          "data": {
            "text/html": [
              "<div>\n",
              "<style scoped>\n",
              "    .dataframe tbody tr th:only-of-type {\n",
              "        vertical-align: middle;\n",
              "    }\n",
              "\n",
              "    .dataframe tbody tr th {\n",
              "        vertical-align: top;\n",
              "    }\n",
              "\n",
              "    .dataframe thead th {\n",
              "        text-align: right;\n",
              "    }\n",
              "</style>\n",
              "<table border=\"1\" class=\"dataframe\">\n",
              "  <thead>\n",
              "    <tr style=\"text-align: right;\">\n",
              "      <th></th>\n",
              "      <th>Lead Origin</th>\n",
              "      <th>Lead Source</th>\n",
              "      <th>Do Not Email</th>\n",
              "      <th>Converted</th>\n",
              "      <th>TotalVisits</th>\n",
              "      <th>Total Time Spent on Website</th>\n",
              "      <th>Page Views Per Visit</th>\n",
              "      <th>Last Activity</th>\n",
              "      <th>Country</th>\n",
              "      <th>Specialization</th>\n",
              "      <th>What is your current occupation</th>\n",
              "      <th>What matters most to you in choosing a course</th>\n",
              "      <th>City</th>\n",
              "      <th>A free copy of Mastering The Interview</th>\n",
              "      <th>Last Notable Activity</th>\n",
              "    </tr>\n",
              "    <tr>\n",
              "      <th>Lead Number</th>\n",
              "      <th></th>\n",
              "      <th></th>\n",
              "      <th></th>\n",
              "      <th></th>\n",
              "      <th></th>\n",
              "      <th></th>\n",
              "      <th></th>\n",
              "      <th></th>\n",
              "      <th></th>\n",
              "      <th></th>\n",
              "      <th></th>\n",
              "      <th></th>\n",
              "      <th></th>\n",
              "      <th></th>\n",
              "      <th></th>\n",
              "    </tr>\n",
              "  </thead>\n",
              "  <tbody>\n",
              "    <tr>\n",
              "      <th>660737</th>\n",
              "      <td>API</td>\n",
              "      <td>Olark Chat</td>\n",
              "      <td>0</td>\n",
              "      <td>0</td>\n",
              "      <td>0.0</td>\n",
              "      <td>0</td>\n",
              "      <td>0.0</td>\n",
              "      <td>Page Visited on Website</td>\n",
              "      <td>NaN</td>\n",
              "      <td>NaN</td>\n",
              "      <td>Unemployed</td>\n",
              "      <td>Better Career Prospects</td>\n",
              "      <td>NaN</td>\n",
              "      <td>0</td>\n",
              "      <td>Modified</td>\n",
              "    </tr>\n",
              "    <tr>\n",
              "      <th>660728</th>\n",
              "      <td>API</td>\n",
              "      <td>Organic Search</td>\n",
              "      <td>0</td>\n",
              "      <td>0</td>\n",
              "      <td>5.0</td>\n",
              "      <td>674</td>\n",
              "      <td>2.5</td>\n",
              "      <td>Email Opened</td>\n",
              "      <td>India</td>\n",
              "      <td>NaN</td>\n",
              "      <td>Unemployed</td>\n",
              "      <td>Better Career Prospects</td>\n",
              "      <td>NaN</td>\n",
              "      <td>0</td>\n",
              "      <td>Email Opened</td>\n",
              "    </tr>\n",
              "    <tr>\n",
              "      <th>660727</th>\n",
              "      <td>Landing Page Submission</td>\n",
              "      <td>Direct Traffic</td>\n",
              "      <td>0</td>\n",
              "      <td>1</td>\n",
              "      <td>2.0</td>\n",
              "      <td>1532</td>\n",
              "      <td>2.0</td>\n",
              "      <td>Email Opened</td>\n",
              "      <td>India</td>\n",
              "      <td>Business Administration</td>\n",
              "      <td>Student</td>\n",
              "      <td>Better Career Prospects</td>\n",
              "      <td>Mumbai</td>\n",
              "      <td>1</td>\n",
              "      <td>Email Opened</td>\n",
              "    </tr>\n",
              "    <tr>\n",
              "      <th>660719</th>\n",
              "      <td>Landing Page Submission</td>\n",
              "      <td>Direct Traffic</td>\n",
              "      <td>0</td>\n",
              "      <td>0</td>\n",
              "      <td>1.0</td>\n",
              "      <td>305</td>\n",
              "      <td>1.0</td>\n",
              "      <td>Unreachable</td>\n",
              "      <td>India</td>\n",
              "      <td>Media and Advertising</td>\n",
              "      <td>Unemployed</td>\n",
              "      <td>Better Career Prospects</td>\n",
              "      <td>Mumbai</td>\n",
              "      <td>0</td>\n",
              "      <td>Modified</td>\n",
              "    </tr>\n",
              "    <tr>\n",
              "      <th>660681</th>\n",
              "      <td>Landing Page Submission</td>\n",
              "      <td>Google</td>\n",
              "      <td>0</td>\n",
              "      <td>1</td>\n",
              "      <td>2.0</td>\n",
              "      <td>1428</td>\n",
              "      <td>1.0</td>\n",
              "      <td>Converted to Lead</td>\n",
              "      <td>India</td>\n",
              "      <td>NaN</td>\n",
              "      <td>Unemployed</td>\n",
              "      <td>Better Career Prospects</td>\n",
              "      <td>Mumbai</td>\n",
              "      <td>0</td>\n",
              "      <td>Modified</td>\n",
              "    </tr>\n",
              "  </tbody>\n",
              "</table>\n",
              "</div>"
            ],
            "text/plain": [
              "                         Lead Origin     Lead Source  Do Not Email  Converted  \\\n",
              "Lead Number                                                                     \n",
              "660737                           API      Olark Chat             0          0   \n",
              "660728                           API  Organic Search             0          0   \n",
              "660727       Landing Page Submission  Direct Traffic             0          1   \n",
              "660719       Landing Page Submission  Direct Traffic             0          0   \n",
              "660681       Landing Page Submission          Google             0          1   \n",
              "\n",
              "             TotalVisits  Total Time Spent on Website  Page Views Per Visit  \\\n",
              "Lead Number                                                                   \n",
              "660737               0.0                            0                   0.0   \n",
              "660728               5.0                          674                   2.5   \n",
              "660727               2.0                         1532                   2.0   \n",
              "660719               1.0                          305                   1.0   \n",
              "660681               2.0                         1428                   1.0   \n",
              "\n",
              "                       Last Activity Country           Specialization  \\\n",
              "Lead Number                                                             \n",
              "660737       Page Visited on Website     NaN                      NaN   \n",
              "660728                  Email Opened   India                      NaN   \n",
              "660727                  Email Opened   India  Business Administration   \n",
              "660719                   Unreachable   India    Media and Advertising   \n",
              "660681             Converted to Lead   India                      NaN   \n",
              "\n",
              "            What is your current occupation  \\\n",
              "Lead Number                                   \n",
              "660737                           Unemployed   \n",
              "660728                           Unemployed   \n",
              "660727                              Student   \n",
              "660719                           Unemployed   \n",
              "660681                           Unemployed   \n",
              "\n",
              "            What matters most to you in choosing a course    City  \\\n",
              "Lead Number                                                         \n",
              "660737                            Better Career Prospects     NaN   \n",
              "660728                            Better Career Prospects     NaN   \n",
              "660727                            Better Career Prospects  Mumbai   \n",
              "660719                            Better Career Prospects  Mumbai   \n",
              "660681                            Better Career Prospects  Mumbai   \n",
              "\n",
              "             A free copy of Mastering The Interview Last Notable Activity  \n",
              "Lead Number                                                                \n",
              "660737                                            0              Modified  \n",
              "660728                                            0          Email Opened  \n",
              "660727                                            1          Email Opened  \n",
              "660719                                            0              Modified  \n",
              "660681                                            0              Modified  "
            ]
          },
          "metadata": {
            "tags": []
          },
          "execution_count": 69
        }
      ]
    },
    {
      "cell_type": "code",
      "metadata": {
        "id": "IEuHSlls6ij6"
      },
      "source": [
        "# Creating Pipelines\r\n",
        "\r\n",
        "num_cols = ['TotalVisits', 'Total Time Spent on Website','Page Views Per Visit']\r\n",
        "\r\n",
        "cat_cols = ['Lead Origin', 'Lead Source', 'Do Not Email', 'Last Activity',\r\n",
        "       'Country', 'Specialization', 'What is your current occupation',\r\n",
        "       'What matters most to you in choosing a course', 'City',\r\n",
        "       'A free copy of Mastering The Interview', 'Last Notable Activity']\r\n",
        "\r\n",
        "\r\n",
        "num_pipe = Pipeline([('num_clean_up', num_cleanup(all_variables= num_cols, mean_variables = ['TotalVisits','Page Views Per Visit'], \r\n",
        "                                                  capping_list = [\"TotalVisits\",\"Page Views Per Visit\"], upper_cap_pct = 0.99)),\r\n",
        "                     ('num_standard_scaler', StandardScalerPandas())\r\n",
        "                     ])\r\n",
        "\r\n",
        "\r\n",
        "cat_pipe = Pipeline([('rare_label_encoder', RareLabelCategoricalEncoder(variables=cat_cols)),\r\n",
        "                     ('woe_encoder', ce.WOEEncoder(cols=cat_cols, return_df=True)),\r\n",
        "                     ('cat_standard_scaler', StandardScalerPandas())\r\n",
        "                    ])\r\n",
        "\r\n",
        "combined_pipe = FeatureUnionPandas([('num', num_pipe),\r\n",
        "                                    ('cat', cat_pipe)])"
      ],
      "execution_count": null,
      "outputs": []
    },
    {
      "cell_type": "markdown",
      "metadata": {
        "id": "il2-NEJ52wyM"
      },
      "source": [
        "# Splitting into Train and Test Set"
      ]
    },
    {
      "cell_type": "code",
      "metadata": {
        "id": "NjtpdbN2y_AE"
      },
      "source": [
        "X = leads1.drop(\"Converted\", axis = 1)\r\n",
        "y = leads1[\"Converted\"]\r\n",
        "\r\n",
        "# Splitting the data into train and test set\r\n",
        "X_train, X_test, y_train, y_test = train_test_split(X, y, test_size=0.3, random_state = 100)"
      ],
      "execution_count": null,
      "outputs": []
    },
    {
      "cell_type": "code",
      "metadata": {
        "id": "DtBxOUWdkB94"
      },
      "source": [
        "X_train_processed = combined_pipe.fit_transform(X_train,y_train)\r\n",
        "X_test_processed = combined_pipe.transform(X_test)"
      ],
      "execution_count": null,
      "outputs": []
    },
    {
      "cell_type": "code",
      "metadata": {
        "id": "O10WgqzcKs1_",
        "colab": {
          "base_uri": "https://localhost:8080/",
          "height": 289
        },
        "outputId": "45f704b0-887d-424d-be89-4089940fe041"
      },
      "source": [
        "# Processed X_train\r\n",
        "X_train_processed.head()"
      ],
      "execution_count": null,
      "outputs": [
        {
          "output_type": "execute_result",
          "data": {
            "text/html": [
              "<div>\n",
              "<style scoped>\n",
              "    .dataframe tbody tr th:only-of-type {\n",
              "        vertical-align: middle;\n",
              "    }\n",
              "\n",
              "    .dataframe tbody tr th {\n",
              "        vertical-align: top;\n",
              "    }\n",
              "\n",
              "    .dataframe thead th {\n",
              "        text-align: right;\n",
              "    }\n",
              "</style>\n",
              "<table border=\"1\" class=\"dataframe\">\n",
              "  <thead>\n",
              "    <tr style=\"text-align: right;\">\n",
              "      <th></th>\n",
              "      <th>TotalVisits</th>\n",
              "      <th>Total Time Spent on Website</th>\n",
              "      <th>Page Views Per Visit</th>\n",
              "      <th>A free copy of Mastering The Interview</th>\n",
              "      <th>City</th>\n",
              "      <th>Country</th>\n",
              "      <th>Do Not Email</th>\n",
              "      <th>Last Activity</th>\n",
              "      <th>Last Notable Activity</th>\n",
              "      <th>Lead Origin</th>\n",
              "      <th>Lead Source</th>\n",
              "      <th>Specialization</th>\n",
              "      <th>What is your current occupation</th>\n",
              "      <th>What matters most to you in choosing a course</th>\n",
              "    </tr>\n",
              "  </thead>\n",
              "  <tbody>\n",
              "    <tr>\n",
              "      <th>641410</th>\n",
              "      <td>-1.024895</td>\n",
              "      <td>-0.885371</td>\n",
              "      <td>-1.183466</td>\n",
              "      <td>0.673169</td>\n",
              "      <td>-1.085738</td>\n",
              "      <td>1.337659</td>\n",
              "      <td>0.291638</td>\n",
              "      <td>0.014987</td>\n",
              "      <td>-0.046947</td>\n",
              "      <td>-0.441132</td>\n",
              "      <td>-0.714835</td>\n",
              "      <td>0.969662</td>\n",
              "      <td>0.207682</td>\n",
              "      <td>0.647095</td>\n",
              "    </tr>\n",
              "    <tr>\n",
              "      <th>597687</th>\n",
              "      <td>0.203155</td>\n",
              "      <td>0.005716</td>\n",
              "      <td>-0.506234</td>\n",
              "      <td>-1.485511</td>\n",
              "      <td>0.336249</td>\n",
              "      <td>-0.469626</td>\n",
              "      <td>0.291638</td>\n",
              "      <td>0.014987</td>\n",
              "      <td>-0.046947</td>\n",
              "      <td>-0.172889</td>\n",
              "      <td>-0.361013</td>\n",
              "      <td>-1.183038</td>\n",
              "      <td>0.207682</td>\n",
              "      <td>0.647095</td>\n",
              "    </tr>\n",
              "    <tr>\n",
              "      <th>626825</th>\n",
              "      <td>0.510167</td>\n",
              "      <td>-0.691418</td>\n",
              "      <td>0.089527</td>\n",
              "      <td>0.673169</td>\n",
              "      <td>-1.085738</td>\n",
              "      <td>1.337659</td>\n",
              "      <td>0.291638</td>\n",
              "      <td>0.014987</td>\n",
              "      <td>-0.046947</td>\n",
              "      <td>-0.441132</td>\n",
              "      <td>-0.714835</td>\n",
              "      <td>-1.183038</td>\n",
              "      <td>0.207682</td>\n",
              "      <td>0.647095</td>\n",
              "    </tr>\n",
              "    <tr>\n",
              "      <th>587928</th>\n",
              "      <td>0.510167</td>\n",
              "      <td>1.365219</td>\n",
              "      <td>1.362519</td>\n",
              "      <td>0.673169</td>\n",
              "      <td>0.534035</td>\n",
              "      <td>-0.469626</td>\n",
              "      <td>0.291638</td>\n",
              "      <td>1.134974</td>\n",
              "      <td>1.637322</td>\n",
              "      <td>-0.172889</td>\n",
              "      <td>0.048147</td>\n",
              "      <td>-0.921230</td>\n",
              "      <td>0.207682</td>\n",
              "      <td>0.647095</td>\n",
              "    </tr>\n",
              "    <tr>\n",
              "      <th>622366</th>\n",
              "      <td>-1.024895</td>\n",
              "      <td>-0.885371</td>\n",
              "      <td>-1.183466</td>\n",
              "      <td>0.673169</td>\n",
              "      <td>-1.085738</td>\n",
              "      <td>1.337659</td>\n",
              "      <td>0.291638</td>\n",
              "      <td>0.014987</td>\n",
              "      <td>-0.867393</td>\n",
              "      <td>-0.441132</td>\n",
              "      <td>-0.714835</td>\n",
              "      <td>-1.183038</td>\n",
              "      <td>0.207682</td>\n",
              "      <td>0.647095</td>\n",
              "    </tr>\n",
              "  </tbody>\n",
              "</table>\n",
              "</div>"
            ],
            "text/plain": [
              "        TotalVisits  Total Time Spent on Website  Page Views Per Visit  \\\n",
              "641410    -1.024895                    -0.885371             -1.183466   \n",
              "597687     0.203155                     0.005716             -0.506234   \n",
              "626825     0.510167                    -0.691418              0.089527   \n",
              "587928     0.510167                     1.365219              1.362519   \n",
              "622366    -1.024895                    -0.885371             -1.183466   \n",
              "\n",
              "        A free copy of Mastering The Interview      City   Country  \\\n",
              "641410                                0.673169 -1.085738  1.337659   \n",
              "597687                               -1.485511  0.336249 -0.469626   \n",
              "626825                                0.673169 -1.085738  1.337659   \n",
              "587928                                0.673169  0.534035 -0.469626   \n",
              "622366                                0.673169 -1.085738  1.337659   \n",
              "\n",
              "        Do Not Email  Last Activity  Last Notable Activity  Lead Origin  \\\n",
              "641410      0.291638       0.014987              -0.046947    -0.441132   \n",
              "597687      0.291638       0.014987              -0.046947    -0.172889   \n",
              "626825      0.291638       0.014987              -0.046947    -0.441132   \n",
              "587928      0.291638       1.134974               1.637322    -0.172889   \n",
              "622366      0.291638       0.014987              -0.867393    -0.441132   \n",
              "\n",
              "        Lead Source  Specialization  What is your current occupation  \\\n",
              "641410    -0.714835        0.969662                         0.207682   \n",
              "597687    -0.361013       -1.183038                         0.207682   \n",
              "626825    -0.714835       -1.183038                         0.207682   \n",
              "587928     0.048147       -0.921230                         0.207682   \n",
              "622366    -0.714835       -1.183038                         0.207682   \n",
              "\n",
              "        What matters most to you in choosing a course  \n",
              "641410                                       0.647095  \n",
              "597687                                       0.647095  \n",
              "626825                                       0.647095  \n",
              "587928                                       0.647095  \n",
              "622366                                       0.647095  "
            ]
          },
          "metadata": {
            "tags": []
          },
          "execution_count": 73
        }
      ]
    },
    {
      "cell_type": "markdown",
      "metadata": {
        "id": "srpSonawK6PW"
      },
      "source": [
        "# Random Forest without Grid Search"
      ]
    },
    {
      "cell_type": "code",
      "metadata": {
        "id": "1o_bZlaHK_JE",
        "colab": {
          "base_uri": "https://localhost:8080/"
        },
        "outputId": "10807e34-b433-4abe-c7a2-0acfe8321026"
      },
      "source": [
        "# Instantiating Random Forest \r\n",
        "\r\n",
        "rf = RandomForestClassifier()\r\n",
        "rf.fit(X_train_processed, y_train)"
      ],
      "execution_count": null,
      "outputs": [
        {
          "output_type": "execute_result",
          "data": {
            "text/plain": [
              "RandomForestClassifier()"
            ]
          },
          "metadata": {
            "tags": []
          },
          "execution_count": 74
        }
      ]
    },
    {
      "cell_type": "code",
      "metadata": {
        "id": "VlMoWlPwTLxV",
        "colab": {
          "base_uri": "https://localhost:8080/"
        },
        "outputId": "867863be-9bc0-44b7-dbe4-518bb2eacda6"
      },
      "source": [
        "print_scores(rf, X_train_processed, y_train, mode='Train')"
      ],
      "execution_count": null,
      "outputs": [
        {
          "output_type": "stream",
          "text": [
            "\n",
            " Train Set ROC AUC:  0.99\n",
            "\n",
            " Clasification Report on Train Set:\n",
            "               precision    recall  f1-score   support\n",
            "\n",
            "           0       0.98      0.98      0.98      4002\n",
            "           1       0.97      0.97      0.97      2466\n",
            "\n",
            "    accuracy                           0.98      6468\n",
            "   macro avg       0.98      0.98      0.98      6468\n",
            "weighted avg       0.98      0.98      0.98      6468\n",
            "\n",
            "\n",
            " Confussion Matrix:\n",
            " [[3940   62]\n",
            " [  83 2383]]\n"
          ],
          "name": "stdout"
        }
      ]
    },
    {
      "cell_type": "code",
      "metadata": {
        "id": "MDC_tkeWLmrF",
        "colab": {
          "base_uri": "https://localhost:8080/"
        },
        "outputId": "acab0b84-24fb-46eb-9b3b-b84836667d28"
      },
      "source": [
        "print_scores(rf, X_test_processed, y_test, mode='Test')"
      ],
      "execution_count": null,
      "outputs": [
        {
          "output_type": "stream",
          "text": [
            "\n",
            " Test Set ROC AUC:  0.9\n",
            "\n",
            " Clasification Report on Test Set:\n",
            "               precision    recall  f1-score   support\n",
            "\n",
            "           0       0.84      0.88      0.86      1677\n",
            "           1       0.80      0.73      0.77      1095\n",
            "\n",
            "    accuracy                           0.82      2772\n",
            "   macro avg       0.82      0.81      0.81      2772\n",
            "weighted avg       0.82      0.82      0.82      2772\n",
            "\n",
            "\n",
            " Confussion Matrix:\n",
            " [[1480  197]\n",
            " [ 291  804]]\n"
          ],
          "name": "stdout"
        }
      ]
    },
    {
      "cell_type": "markdown",
      "metadata": {
        "id": "280tTWuSmrEX"
      },
      "source": [
        "The clasification report of Random Forest model without Grid Search is shown above. Let's check out the results for Random Forest model with Grid Search next."
      ]
    },
    {
      "cell_type": "markdown",
      "metadata": {
        "id": "LxL72ewmTsIj"
      },
      "source": [
        "# Random Forest with Grid Search"
      ]
    },
    {
      "cell_type": "code",
      "metadata": {
        "id": "HDOFo1FkTbuQ",
        "colab": {
          "base_uri": "https://localhost:8080/"
        },
        "outputId": "75448184-6145-4526-b49c-c05d6229f20f"
      },
      "source": [
        "# GridSearchCV\r\n",
        "\r\n",
        "hyper_params_cv_rf = {\r\n",
        "                'max_features': [0.05, 0.10, 0.25],\r\n",
        "                'min_samples_leaf': [3, 7, 11, 15],\r\n",
        "                'n_estimators': [100, 200, 500]\r\n",
        "               }\r\n",
        "\r\n",
        "\r\n",
        "model_cv_rf = GridSearchCV(estimator=RandomForestClassifier(), \r\n",
        "             param_grid=hyper_params_cv_rf,\r\n",
        "             verbose=1,\r\n",
        "             cv=5,\r\n",
        "             scoring = \"recall\",\r\n",
        "             n_jobs=-1,\r\n",
        "             return_train_score=True)\r\n",
        "\r\n",
        "model_cv_rf.fit(X_train_processed, y_train)\r\n",
        "\r\n",
        "print(model_cv_rf.best_estimator_)"
      ],
      "execution_count": null,
      "outputs": [
        {
          "output_type": "stream",
          "text": [
            "Fitting 5 folds for each of 36 candidates, totalling 180 fits\n",
            "RandomForestClassifier(max_features=0.25, min_samples_leaf=7)\n"
          ],
          "name": "stdout"
        }
      ]
    },
    {
      "cell_type": "code",
      "metadata": {
        "id": "__5b8zfGVIzu",
        "colab": {
          "base_uri": "https://localhost:8080/"
        },
        "outputId": "7a171855-cc18-45ae-a8c7-f8bbf1b9958a"
      },
      "source": [
        "print('CV Recall Score: ', round(model_cv_rf.best_score_,2))\r\n",
        "\r\n",
        "print_scores(model_cv_rf, X_train_processed, y_train, mode='Train')"
      ],
      "execution_count": null,
      "outputs": [
        {
          "output_type": "stream",
          "text": [
            "CV Recall Score:  0.76\n",
            "\n",
            " Train Set ROC AUC:  0.94\n",
            "\n",
            " Clasification Report on Train Set:\n",
            "               precision    recall  f1-score   support\n",
            "\n",
            "           0       0.87      0.91      0.89      4002\n",
            "           1       0.84      0.79      0.81      2466\n",
            "\n",
            "    accuracy                           0.86      6468\n",
            "   macro avg       0.86      0.85      0.85      6468\n",
            "weighted avg       0.86      0.86      0.86      6468\n",
            "\n",
            "\n",
            " Confussion Matrix:\n",
            " [[3633  369]\n",
            " [ 529 1937]]\n"
          ],
          "name": "stdout"
        }
      ]
    },
    {
      "cell_type": "code",
      "metadata": {
        "id": "9T5sG_kQoGiC",
        "colab": {
          "base_uri": "https://localhost:8080/"
        },
        "outputId": "e6f6d68d-8c0a-4c55-fd5e-f947ba7ddc20"
      },
      "source": [
        "print_scores(model_cv_rf, X_test_processed, y_test, mode='Test')"
      ],
      "execution_count": null,
      "outputs": [
        {
          "output_type": "stream",
          "text": [
            "\n",
            " Test Set ROC AUC:  0.91\n",
            "\n",
            " Clasification Report on Test Set:\n",
            "               precision    recall  f1-score   support\n",
            "\n",
            "           0       0.84      0.89      0.87      1677\n",
            "           1       0.82      0.74      0.78      1095\n",
            "\n",
            "    accuracy                           0.84      2772\n",
            "   macro avg       0.83      0.82      0.82      2772\n",
            "weighted avg       0.83      0.84      0.83      2772\n",
            "\n",
            "\n",
            " Confussion Matrix:\n",
            " [[1500  177]\n",
            " [ 280  815]]\n"
          ],
          "name": "stdout"
        }
      ]
    },
    {
      "cell_type": "code",
      "metadata": {
        "id": "OnCwEU-zVoSe",
        "colab": {
          "base_uri": "https://localhost:8080/",
          "height": 513
        },
        "outputId": "297de8ab-69ef-40de-ada9-25a7021e0a9a"
      },
      "source": [
        "# Feature Importances\r\n",
        "\r\n",
        "features = X_train_processed.columns\r\n",
        "importances = model_cv_rf.best_estimator_.feature_importances_\r\n",
        "indices = np.argsort(importances)[-15:]\r\n",
        "\r\n",
        "plt.figure(figsize=(16,8))\r\n",
        "plt.title('Feature Importances')\r\n",
        "plt.barh(range(len(indices)), importances[indices], color='b', align='center')\r\n",
        "plt.yticks(range(len(indices)), [features[i] for i in indices])\r\n",
        "plt.xlabel('Relative Importance')\r\n",
        "plt.show()"
      ],
      "execution_count": null,
      "outputs": [
        {
          "output_type": "display_data",
          "data": {
            "image/png": "[encoded data removed]",
            "text/plain": [
              "<Figure size 1152x576 with 1 Axes>"
            ]
          },
          "metadata": {
            "tags": [],
            "needs_background": "light"
          }
        }
      ]
    },
    {
      "cell_type": "markdown",
      "metadata": {
        "id": "nMneqYO5nVJH"
      },
      "source": [
        "\"Total Time Spent on Website\" is the most important feature."
      ]
    },
    {
      "cell_type": "markdown",
      "metadata": {
        "id": "JEf3urZGWA9h"
      },
      "source": [
        "# Logistic Model"
      ]
    },
    {
      "cell_type": "code",
      "metadata": {
        "id": "ttDA3ZePI7wx",
        "colab": {
          "base_uri": "https://localhost:8080/",
          "height": 111
        },
        "outputId": "2e1be8ae-4eac-4e9f-b186-a7cc07948aff"
      },
      "source": [
        "# Checking highly correlated variables (above 0.8) \n",
        "\n",
        "corr = abs(X_train_processed.corr()).stack().reset_index().sort_values(0, ascending = False)\n",
        "corr.columns = [\"col1\",\"col2\",\"correlation\"]\n",
        "corr[(corr.col1 != corr.col2) & (corr.correlation > 0.8)]"
      ],
      "execution_count": null,
      "outputs": [
        {
          "output_type": "execute_result",
          "data": {
            "text/html": [
              "<div>\n",
              "<style scoped>\n",
              "    .dataframe tbody tr th:only-of-type {\n",
              "        vertical-align: middle;\n",
              "    }\n",
              "\n",
              "    .dataframe tbody tr th {\n",
              "        vertical-align: top;\n",
              "    }\n",
              "\n",
              "    .dataframe thead th {\n",
              "        text-align: right;\n",
              "    }\n",
              "</style>\n",
              "<table border=\"1\" class=\"dataframe\">\n",
              "  <thead>\n",
              "    <tr style=\"text-align: right;\">\n",
              "      <th></th>\n",
              "      <th>col1</th>\n",
              "      <th>col2</th>\n",
              "      <th>correlation</th>\n",
              "    </tr>\n",
              "  </thead>\n",
              "  <tbody>\n",
              "    <tr>\n",
              "      <th>136</th>\n",
              "      <td>Lead Origin</td>\n",
              "      <td>Lead Source</td>\n",
              "      <td>0.938137</td>\n",
              "    </tr>\n",
              "    <tr>\n",
              "      <th>149</th>\n",
              "      <td>Lead Source</td>\n",
              "      <td>Lead Origin</td>\n",
              "      <td>0.938137</td>\n",
              "    </tr>\n",
              "  </tbody>\n",
              "</table>\n",
              "</div>"
            ],
            "text/plain": [
              "            col1         col2  correlation\n",
              "136  Lead Origin  Lead Source     0.938137\n",
              "149  Lead Source  Lead Origin     0.938137"
            ]
          },
          "metadata": {
            "tags": []
          },
          "execution_count": 81
        }
      ]
    },
    {
      "cell_type": "code",
      "metadata": {
        "id": "rqbLF2_9I8ba"
      },
      "source": [
        "# Dropping \"Lead Origin\" as it is highly correlated with \"Lead Source\"\n",
        "\n",
        "X_train_processed = X_train_processed.drop([\"Lead Origin\"], axis = 1)\n",
        "X_test_processed = X_test_processed.drop([\"Lead Origin\"], axis = 1)"
      ],
      "execution_count": null,
      "outputs": []
    },
    {
      "cell_type": "code",
      "metadata": {
        "id": "2h9NMqqAI9A1",
        "colab": {
          "base_uri": "https://localhost:8080/",
          "height": 452
        },
        "outputId": "640e9110-eb33-48f5-e2b3-12ba77386f14"
      },
      "source": [
        "# Creating a dataframe that will contain the names of all the feature variables and their respective VIFs\n",
        "\n",
        "vif = pd.DataFrame()\n",
        "vif['Features'] = X_train_processed.columns\n",
        "vif['VIF'] = [variance_inflation_factor(X_train_processed.values, i) for i in range(X_train_processed.shape[1])]\n",
        "vif['VIF'] = round(vif['VIF'], 2)\n",
        "vif = vif.sort_values(by = \"VIF\", ascending = False)\n",
        "vif"
      ],
      "execution_count": null,
      "outputs": [
        {
          "output_type": "execute_result",
          "data": {
            "text/html": [
              "<div>\n",
              "<style scoped>\n",
              "    .dataframe tbody tr th:only-of-type {\n",
              "        vertical-align: middle;\n",
              "    }\n",
              "\n",
              "    .dataframe tbody tr th {\n",
              "        vertical-align: top;\n",
              "    }\n",
              "\n",
              "    .dataframe thead th {\n",
              "        text-align: right;\n",
              "    }\n",
              "</style>\n",
              "<table border=\"1\" class=\"dataframe\">\n",
              "  <thead>\n",
              "    <tr style=\"text-align: right;\">\n",
              "      <th></th>\n",
              "      <th>Features</th>\n",
              "      <th>VIF</th>\n",
              "    </tr>\n",
              "  </thead>\n",
              "  <tbody>\n",
              "    <tr>\n",
              "      <th>11</th>\n",
              "      <td>What is your current occupation</td>\n",
              "      <td>2.43</td>\n",
              "    </tr>\n",
              "    <tr>\n",
              "      <th>2</th>\n",
              "      <td>Page Views Per Visit</td>\n",
              "      <td>2.30</td>\n",
              "    </tr>\n",
              "    <tr>\n",
              "      <th>7</th>\n",
              "      <td>Last Activity</td>\n",
              "      <td>2.29</td>\n",
              "    </tr>\n",
              "    <tr>\n",
              "      <th>12</th>\n",
              "      <td>What matters most to you in choosing a course</td>\n",
              "      <td>2.29</td>\n",
              "    </tr>\n",
              "    <tr>\n",
              "      <th>10</th>\n",
              "      <td>Specialization</td>\n",
              "      <td>2.15</td>\n",
              "    </tr>\n",
              "    <tr>\n",
              "      <th>4</th>\n",
              "      <td>City</td>\n",
              "      <td>2.10</td>\n",
              "    </tr>\n",
              "    <tr>\n",
              "      <th>8</th>\n",
              "      <td>Last Notable Activity</td>\n",
              "      <td>2.06</td>\n",
              "    </tr>\n",
              "    <tr>\n",
              "      <th>0</th>\n",
              "      <td>TotalVisits</td>\n",
              "      <td>2.01</td>\n",
              "    </tr>\n",
              "    <tr>\n",
              "      <th>5</th>\n",
              "      <td>Country</td>\n",
              "      <td>1.57</td>\n",
              "    </tr>\n",
              "    <tr>\n",
              "      <th>3</th>\n",
              "      <td>A free copy of Mastering The Interview</td>\n",
              "      <td>1.39</td>\n",
              "    </tr>\n",
              "    <tr>\n",
              "      <th>9</th>\n",
              "      <td>Lead Source</td>\n",
              "      <td>1.26</td>\n",
              "    </tr>\n",
              "    <tr>\n",
              "      <th>1</th>\n",
              "      <td>Total Time Spent on Website</td>\n",
              "      <td>1.25</td>\n",
              "    </tr>\n",
              "    <tr>\n",
              "      <th>6</th>\n",
              "      <td>Do Not Email</td>\n",
              "      <td>1.06</td>\n",
              "    </tr>\n",
              "  </tbody>\n",
              "</table>\n",
              "</div>"
            ],
            "text/plain": [
              "                                         Features   VIF\n",
              "11                What is your current occupation  2.43\n",
              "2                            Page Views Per Visit  2.30\n",
              "7                                   Last Activity  2.29\n",
              "12  What matters most to you in choosing a course  2.29\n",
              "10                                 Specialization  2.15\n",
              "4                                            City  2.10\n",
              "8                           Last Notable Activity  2.06\n",
              "0                                     TotalVisits  2.01\n",
              "5                                         Country  1.57\n",
              "3          A free copy of Mastering The Interview  1.39\n",
              "9                                     Lead Source  1.26\n",
              "1                     Total Time Spent on Website  1.25\n",
              "6                                    Do Not Email  1.06"
            ]
          },
          "metadata": {
            "tags": []
          },
          "execution_count": 83
        }
      ]
    },
    {
      "cell_type": "markdown",
      "metadata": {
        "id": "wQlOTzXEoUCZ"
      },
      "source": [
        "The highest VIF is 2.43 for \"What is your current occupation\". Typically it is better to have VIF below 10"
      ]
    },
    {
      "cell_type": "code",
      "metadata": {
        "id": "jK2OgLNpUDdD",
        "colab": {
          "base_uri": "https://localhost:8080/",
          "height": 542
        },
        "outputId": "20a85fe5-be68-4bb0-a31b-4152a63deeb8"
      },
      "source": [
        "# Logistic regression model\n",
        "\n",
        "logm = sm.GLM(y_train,(sm.add_constant(X_train_processed)), family = sm.families.Binomial()).fit()\n",
        "logm.summary()"
      ],
      "execution_count": null,
      "outputs": [
        {
          "output_type": "execute_result",
          "data": {
            "text/html": [
              "<table class=\"simpletable\">\n",
              "<caption>Generalized Linear Model Regression Results</caption>\n",
              "<tr>\n",
              "  <th>Dep. Variable:</th>       <td>Converted</td>    <th>  No. Observations:  </th>  <td>  6468</td> \n",
              "</tr>\n",
              "<tr>\n",
              "  <th>Model:</th>                  <td>GLM</td>       <th>  Df Residuals:      </th>  <td>  6454</td> \n",
              "</tr>\n",
              "<tr>\n",
              "  <th>Model Family:</th>        <td>Binomial</td>     <th>  Df Model:          </th>  <td>    13</td> \n",
              "</tr>\n",
              "<tr>\n",
              "  <th>Link Function:</th>         <td>logit</td>      <th>  Scale:             </th> <td>  1.0000</td>\n",
              "</tr>\n",
              "<tr>\n",
              "  <th>Method:</th>                <td>IRLS</td>       <th>  Log-Likelihood:    </th> <td> -2607.4</td>\n",
              "</tr>\n",
              "<tr>\n",
              "  <th>Date:</th>            <td>Sun, 07 Mar 2021</td> <th>  Deviance:          </th> <td>  5214.8</td>\n",
              "</tr>\n",
              "<tr>\n",
              "  <th>Time:</th>                <td>19:40:01</td>     <th>  Pearson chi2:      </th> <td>7.52e+03</td>\n",
              "</tr>\n",
              "<tr>\n",
              "  <th>No. Iterations:</th>          <td>6</td>        <th>                     </th>     <td> </td>   \n",
              "</tr>\n",
              "<tr>\n",
              "  <th>Covariance Type:</th>     <td>nonrobust</td>    <th>                     </th>     <td> </td>   \n",
              "</tr>\n",
              "</table>\n",
              "<table class=\"simpletable\">\n",
              "<tr>\n",
              "                        <td></td>                           <th>coef</th>     <th>std err</th>      <th>z</th>      <th>P>|z|</th>  <th>[0.025</th>    <th>0.975]</th>  \n",
              "</tr>\n",
              "<tr>\n",
              "  <th>const</th>                                         <td>   -0.6790</td> <td>    0.039</td> <td>  -17.634</td> <td> 0.000</td> <td>   -0.754</td> <td>   -0.604</td>\n",
              "</tr>\n",
              "<tr>\n",
              "  <th>TotalVisits</th>                                   <td>    0.2768</td> <td>    0.047</td> <td>    5.899</td> <td> 0.000</td> <td>    0.185</td> <td>    0.369</td>\n",
              "</tr>\n",
              "<tr>\n",
              "  <th>Total Time Spent on Website</th>                   <td>    1.0355</td> <td>    0.040</td> <td>   25.904</td> <td> 0.000</td> <td>    0.957</td> <td>    1.114</td>\n",
              "</tr>\n",
              "<tr>\n",
              "  <th>Page Views Per Visit</th>                          <td>   -0.3952</td> <td>    0.053</td> <td>   -7.482</td> <td> 0.000</td> <td>   -0.499</td> <td>   -0.292</td>\n",
              "</tr>\n",
              "<tr>\n",
              "  <th>A free copy of Mastering The Interview</th>        <td>    0.1558</td> <td>    0.040</td> <td>    3.934</td> <td> 0.000</td> <td>    0.078</td> <td>    0.233</td>\n",
              "</tr>\n",
              "<tr>\n",
              "  <th>City</th>                                          <td>    0.0041</td> <td>    0.050</td> <td>    0.082</td> <td> 0.934</td> <td>   -0.093</td> <td>    0.102</td>\n",
              "</tr>\n",
              "<tr>\n",
              "  <th>Country</th>                                       <td>    0.6231</td> <td>    0.060</td> <td>   10.416</td> <td> 0.000</td> <td>    0.506</td> <td>    0.740</td>\n",
              "</tr>\n",
              "<tr>\n",
              "  <th>Do Not Email</th>                                  <td>    0.2440</td> <td>    0.045</td> <td>    5.477</td> <td> 0.000</td> <td>    0.157</td> <td>    0.331</td>\n",
              "</tr>\n",
              "<tr>\n",
              "  <th>Last Activity</th>                                 <td>    0.4707</td> <td>    0.058</td> <td>    8.105</td> <td> 0.000</td> <td>    0.357</td> <td>    0.584</td>\n",
              "</tr>\n",
              "<tr>\n",
              "  <th>Last Notable Activity</th>                         <td>    0.4721</td> <td>    0.050</td> <td>    9.452</td> <td> 0.000</td> <td>    0.374</td> <td>    0.570</td>\n",
              "</tr>\n",
              "<tr>\n",
              "  <th>Lead Source</th>                                   <td>    0.6048</td> <td>    0.048</td> <td>   12.691</td> <td> 0.000</td> <td>    0.511</td> <td>    0.698</td>\n",
              "</tr>\n",
              "<tr>\n",
              "  <th>Specialization</th>                                <td>    0.1881</td> <td>    0.051</td> <td>    3.716</td> <td> 0.000</td> <td>    0.089</td> <td>    0.287</td>\n",
              "</tr>\n",
              "<tr>\n",
              "  <th>What is your current occupation</th>               <td>    0.9485</td> <td>    0.072</td> <td>   13.139</td> <td> 0.000</td> <td>    0.807</td> <td>    1.090</td>\n",
              "</tr>\n",
              "<tr>\n",
              "  <th>What matters most to you in choosing a course</th> <td>   -0.1181</td> <td>    0.062</td> <td>   -1.905</td> <td> 0.057</td> <td>   -0.240</td> <td>    0.003</td>\n",
              "</tr>\n",
              "</table>"
            ],
            "text/plain": [
              "<class 'statsmodels.iolib.summary.Summary'>\n",
              "\"\"\"\n",
              "                 Generalized Linear Model Regression Results                  \n",
              "==============================================================================\n",
              "Dep. Variable:              Converted   No. Observations:                 6468\n",
              "Model:                            GLM   Df Residuals:                     6454\n",
              "Model Family:                Binomial   Df Model:                           13\n",
              "Link Function:                  logit   Scale:                          1.0000\n",
              "Method:                          IRLS   Log-Likelihood:                -2607.4\n",
              "Date:                Sun, 07 Mar 2021   Deviance:                       5214.8\n",
              "Time:                        19:40:01   Pearson chi2:                 7.52e+03\n",
              "No. Iterations:                     6                                         \n",
              "Covariance Type:            nonrobust                                         \n",
              "=================================================================================================================\n",
              "                                                    coef    std err          z      P>|z|      [0.025      0.975]\n",
              "-----------------------------------------------------------------------------------------------------------------\n",
              "const                                            -0.6790      0.039    -17.634      0.000      -0.754      -0.604\n",
              "TotalVisits                                       0.2768      0.047      5.899      0.000       0.185       0.369\n",
              "Total Time Spent on Website                       1.0355      0.040     25.904      0.000       0.957       1.114\n",
              "Page Views Per Visit                             -0.3952      0.053     -7.482      0.000      -0.499      -0.292\n",
              "A free copy of Mastering The Interview            0.1558      0.040      3.934      0.000       0.078       0.233\n",
              "City                                              0.0041      0.050      0.082      0.934      -0.093       0.102\n",
              "Country                                           0.6231      0.060     10.416      0.000       0.506       0.740\n",
              "Do Not Email                                      0.2440      0.045      5.477      0.000       0.157       0.331\n",
              "Last Activity                                     0.4707      0.058      8.105      0.000       0.357       0.584\n",
              "Last Notable Activity                             0.4721      0.050      9.452      0.000       0.374       0.570\n",
              "Lead Source                                       0.6048      0.048     12.691      0.000       0.511       0.698\n",
              "Specialization                                    0.1881      0.051      3.716      0.000       0.089       0.287\n",
              "What is your current occupation                   0.9485      0.072     13.139      0.000       0.807       1.090\n",
              "What matters most to you in choosing a course    -0.1181      0.062     -1.905      0.057      -0.240       0.003\n",
              "=================================================================================================================\n",
              "\"\"\""
            ]
          },
          "metadata": {
            "tags": []
          },
          "execution_count": 84
        }
      ]
    },
    {
      "cell_type": "code",
      "metadata": {
        "id": "XzKJQc18UDMx"
      },
      "source": [
        "# Dropping variable with high p-values\n",
        "\n",
        "X_train_processed = X_train_processed.drop([\"City\"],axis = 1)\n",
        "X_test_processed= X_test_processed.drop([\"City\"],axis = 1)"
      ],
      "execution_count": null,
      "outputs": []
    },
    {
      "cell_type": "code",
      "metadata": {
        "id": "DCt6eHsyYXx0",
        "colab": {
          "base_uri": "https://localhost:8080/",
          "height": 521
        },
        "outputId": "879d55d6-f428-4e77-ecdb-847ae7f35500"
      },
      "source": [
        "# Final Logistic Regression Model\n",
        "\n",
        "logm = sm.GLM(y_train,(sm.add_constant(X_train_processed)), family = sm.families.Binomial()).fit()\n",
        "logm.summary()"
      ],
      "execution_count": null,
      "outputs": [
        {
          "output_type": "execute_result",
          "data": {
            "text/html": [
              "<table class=\"simpletable\">\n",
              "<caption>Generalized Linear Model Regression Results</caption>\n",
              "<tr>\n",
              "  <th>Dep. Variable:</th>       <td>Converted</td>    <th>  No. Observations:  </th>  <td>  6468</td> \n",
              "</tr>\n",
              "<tr>\n",
              "  <th>Model:</th>                  <td>GLM</td>       <th>  Df Residuals:      </th>  <td>  6455</td> \n",
              "</tr>\n",
              "<tr>\n",
              "  <th>Model Family:</th>        <td>Binomial</td>     <th>  Df Model:          </th>  <td>    12</td> \n",
              "</tr>\n",
              "<tr>\n",
              "  <th>Link Function:</th>         <td>logit</td>      <th>  Scale:             </th> <td>  1.0000</td>\n",
              "</tr>\n",
              "<tr>\n",
              "  <th>Method:</th>                <td>IRLS</td>       <th>  Log-Likelihood:    </th> <td> -2607.4</td>\n",
              "</tr>\n",
              "<tr>\n",
              "  <th>Date:</th>            <td>Sun, 07 Mar 2021</td> <th>  Deviance:          </th> <td>  5214.8</td>\n",
              "</tr>\n",
              "<tr>\n",
              "  <th>Time:</th>                <td>19:40:01</td>     <th>  Pearson chi2:      </th> <td>7.53e+03</td>\n",
              "</tr>\n",
              "<tr>\n",
              "  <th>No. Iterations:</th>          <td>6</td>        <th>                     </th>     <td> </td>   \n",
              "</tr>\n",
              "<tr>\n",
              "  <th>Covariance Type:</th>     <td>nonrobust</td>    <th>                     </th>     <td> </td>   \n",
              "</tr>\n",
              "</table>\n",
              "<table class=\"simpletable\">\n",
              "<tr>\n",
              "                        <td></td>                           <th>coef</th>     <th>std err</th>      <th>z</th>      <th>P>|z|</th>  <th>[0.025</th>    <th>0.975]</th>  \n",
              "</tr>\n",
              "<tr>\n",
              "  <th>const</th>                                         <td>   -0.6788</td> <td>    0.038</td> <td>  -17.652</td> <td> 0.000</td> <td>   -0.754</td> <td>   -0.603</td>\n",
              "</tr>\n",
              "<tr>\n",
              "  <th>TotalVisits</th>                                   <td>    0.2769</td> <td>    0.047</td> <td>    5.906</td> <td> 0.000</td> <td>    0.185</td> <td>    0.369</td>\n",
              "</tr>\n",
              "<tr>\n",
              "  <th>Total Time Spent on Website</th>                   <td>    1.0356</td> <td>    0.040</td> <td>   25.913</td> <td> 0.000</td> <td>    0.957</td> <td>    1.114</td>\n",
              "</tr>\n",
              "<tr>\n",
              "  <th>Page Views Per Visit</th>                          <td>   -0.3950</td> <td>    0.053</td> <td>   -7.490</td> <td> 0.000</td> <td>   -0.498</td> <td>   -0.292</td>\n",
              "</tr>\n",
              "<tr>\n",
              "  <th>A free copy of Mastering The Interview</th>        <td>    0.1553</td> <td>    0.039</td> <td>    3.964</td> <td> 0.000</td> <td>    0.079</td> <td>    0.232</td>\n",
              "</tr>\n",
              "<tr>\n",
              "  <th>Country</th>                                       <td>    0.6227</td> <td>    0.060</td> <td>   10.445</td> <td> 0.000</td> <td>    0.506</td> <td>    0.740</td>\n",
              "</tr>\n",
              "<tr>\n",
              "  <th>Do Not Email</th>                                  <td>    0.2439</td> <td>    0.045</td> <td>    5.477</td> <td> 0.000</td> <td>    0.157</td> <td>    0.331</td>\n",
              "</tr>\n",
              "<tr>\n",
              "  <th>Last Activity</th>                                 <td>    0.4708</td> <td>    0.058</td> <td>    8.111</td> <td> 0.000</td> <td>    0.357</td> <td>    0.585</td>\n",
              "</tr>\n",
              "<tr>\n",
              "  <th>Last Notable Activity</th>                         <td>    0.4720</td> <td>    0.050</td> <td>    9.454</td> <td> 0.000</td> <td>    0.374</td> <td>    0.570</td>\n",
              "</tr>\n",
              "<tr>\n",
              "  <th>Lead Source</th>                                   <td>    0.6049</td> <td>    0.048</td> <td>   12.698</td> <td> 0.000</td> <td>    0.512</td> <td>    0.698</td>\n",
              "</tr>\n",
              "<tr>\n",
              "  <th>Specialization</th>                                <td>    0.1904</td> <td>    0.042</td> <td>    4.513</td> <td> 0.000</td> <td>    0.108</td> <td>    0.273</td>\n",
              "</tr>\n",
              "<tr>\n",
              "  <th>What is your current occupation</th>               <td>    0.9485</td> <td>    0.072</td> <td>   13.138</td> <td> 0.000</td> <td>    0.807</td> <td>    1.090</td>\n",
              "</tr>\n",
              "<tr>\n",
              "  <th>What matters most to you in choosing a course</th> <td>   -0.1180</td> <td>    0.062</td> <td>   -1.903</td> <td> 0.057</td> <td>   -0.240</td> <td>    0.004</td>\n",
              "</tr>\n",
              "</table>"
            ],
            "text/plain": [
              "<class 'statsmodels.iolib.summary.Summary'>\n",
              "\"\"\"\n",
              "                 Generalized Linear Model Regression Results                  \n",
              "==============================================================================\n",
              "Dep. Variable:              Converted   No. Observations:                 6468\n",
              "Model:                            GLM   Df Residuals:                     6455\n",
              "Model Family:                Binomial   Df Model:                           12\n",
              "Link Function:                  logit   Scale:                          1.0000\n",
              "Method:                          IRLS   Log-Likelihood:                -2607.4\n",
              "Date:                Sun, 07 Mar 2021   Deviance:                       5214.8\n",
              "Time:                        19:40:01   Pearson chi2:                 7.53e+03\n",
              "No. Iterations:                     6                                         \n",
              "Covariance Type:            nonrobust                                         \n",
              "=================================================================================================================\n",
              "                                                    coef    std err          z      P>|z|      [0.025      0.975]\n",
              "-----------------------------------------------------------------------------------------------------------------\n",
              "const                                            -0.6788      0.038    -17.652      0.000      -0.754      -0.603\n",
              "TotalVisits                                       0.2769      0.047      5.906      0.000       0.185       0.369\n",
              "Total Time Spent on Website                       1.0356      0.040     25.913      0.000       0.957       1.114\n",
              "Page Views Per Visit                             -0.3950      0.053     -7.490      0.000      -0.498      -0.292\n",
              "A free copy of Mastering The Interview            0.1553      0.039      3.964      0.000       0.079       0.232\n",
              "Country                                           0.6227      0.060     10.445      0.000       0.506       0.740\n",
              "Do Not Email                                      0.2439      0.045      5.477      0.000       0.157       0.331\n",
              "Last Activity                                     0.4708      0.058      8.111      0.000       0.357       0.585\n",
              "Last Notable Activity                             0.4720      0.050      9.454      0.000       0.374       0.570\n",
              "Lead Source                                       0.6049      0.048     12.698      0.000       0.512       0.698\n",
              "Specialization                                    0.1904      0.042      4.513      0.000       0.108       0.273\n",
              "What is your current occupation                   0.9485      0.072     13.138      0.000       0.807       1.090\n",
              "What matters most to you in choosing a course    -0.1180      0.062     -1.903      0.057      -0.240       0.004\n",
              "=================================================================================================================\n",
              "\"\"\""
            ]
          },
          "metadata": {
            "tags": []
          },
          "execution_count": 86
        }
      ]
    },
    {
      "cell_type": "code",
      "metadata": {
        "id": "iAB5hIPgYYyy",
        "colab": {
          "base_uri": "https://localhost:8080/"
        },
        "outputId": "b4f7ecfd-6357-46a0-df88-3b8ab03bec96"
      },
      "source": [
        "print(\"ROC AUC of the Train Data:\",round(roc_auc_score(y_train, logm.predict(sm.add_constant(X_train_processed)).values.reshape(-1)),3))"
      ],
      "execution_count": null,
      "outputs": [
        {
          "output_type": "stream",
          "text": [
            "ROC AUC of the Train Data: 0.892\n"
          ],
          "name": "stdout"
        }
      ]
    },
    {
      "cell_type": "code",
      "metadata": {
        "id": "lYhSzSLLcpKG",
        "colab": {
          "base_uri": "https://localhost:8080/"
        },
        "outputId": "84a4de35-cbee-4981-c2e1-4ab4f4c33915"
      },
      "source": [
        "print(\"ROC AUC of the Train Data:\",round(roc_auc_score(y_test, logm.predict(sm.add_constant(X_test_processed)).values.reshape(-1)),3))"
      ],
      "execution_count": null,
      "outputs": [
        {
          "output_type": "stream",
          "text": [
            "ROC AUC of the Train Data: 0.895\n"
          ],
          "name": "stdout"
        }
      ]
    },
    {
      "cell_type": "markdown",
      "metadata": {
        "id": "SgOWwJLbJviW"
      },
      "source": [
        "###Plotting the ROC Curve\n"
      ]
    },
    {
      "cell_type": "code",
      "metadata": {
        "id": "i32CbzPbJsGY",
        "colab": {
          "base_uri": "https://localhost:8080/",
          "height": 458
        },
        "outputId": "6083f0cd-54f4-411d-b90a-d87463caaeb2"
      },
      "source": [
        "def draw_roc( actual, probs ):\n",
        "    from sklearn import metrics\n",
        "    fpr, tpr, thresholds = metrics.roc_curve(actual, probs, drop_intermediate = False )\n",
        "    auc_score = metrics.roc_auc_score( actual, probs )\n",
        "    plt.figure(figsize=(7, 7))\n",
        "    plt.plot( fpr, tpr, label='ROC curve (area = %0.2f)' % auc_score )\n",
        "    plt.plot([0, 1], [0, 1], 'k--')\n",
        "    plt.xlim([0.0, 1.0])\n",
        "    plt.ylim([0.0, 1.05])\n",
        "    plt.xlabel('False Positive Rate or [1 - True Negative Rate]')\n",
        "    plt.ylabel('True Positive Rate')\n",
        "    plt.title('Receiver operating characteristic example')\n",
        "    plt.legend(loc=\"lower right\")\n",
        "    plt.show()\n",
        "\n",
        "    return None\n",
        "\n",
        "\n",
        "draw_roc(y_test, logm.predict(sm.add_constant(X_test_processed)).values.reshape(-1))"
      ],
      "execution_count": null,
      "outputs": [
        {
          "output_type": "display_data",
          "data": {
            "image/png": "[encoded data removed]",
            "text/plain": [
              "<Figure size 504x504 with 1 Axes>"
            ]
          },
          "metadata": {
            "tags": [],
            "needs_background": "light"
          }
        }
      ]
    },
    {
      "cell_type": "markdown",
      "metadata": {
        "id": "MwKLp-h_J5zG"
      },
      "source": [
        "### Finding Optimal Cutoff Point\n",
        "\n"
      ]
    },
    {
      "cell_type": "code",
      "metadata": {
        "id": "mtPwAecfJTXg",
        "colab": {
          "base_uri": "https://localhost:8080/",
          "height": 235
        },
        "outputId": "00deef55-51a3-4ace-ed81-f3ea63f656fa"
      },
      "source": [
        "# Creating a new data frame y_test_pred to find optimal cut-off\n",
        "\n",
        "y_test_pred = pd.DataFrame(y_test.values, columns=['actuals'], index=y_test.index)\n",
        "y_test_pred['pred_prob'] = logm.predict(sm.add_constant(X_test_processed)).values.reshape(-1)\n",
        "\n",
        "# Let's create columns with different probability cutoffs \n",
        "numbers = [float(x)/20 for x in range(20)]\n",
        "for i in numbers:\n",
        "    y_test_pred[i]= y_test_pred.pred_prob.map(lambda x: 1 if x > i else 0)\n",
        "y_test_pred.head()"
      ],
      "execution_count": null,
      "outputs": [
        {
          "output_type": "execute_result",
          "data": {
            "text/html": [
              "<div>\n",
              "<style scoped>\n",
              "    .dataframe tbody tr th:only-of-type {\n",
              "        vertical-align: middle;\n",
              "    }\n",
              "\n",
              "    .dataframe tbody tr th {\n",
              "        vertical-align: top;\n",
              "    }\n",
              "\n",
              "    .dataframe thead th {\n",
              "        text-align: right;\n",
              "    }\n",
              "</style>\n",
              "<table border=\"1\" class=\"dataframe\">\n",
              "  <thead>\n",
              "    <tr style=\"text-align: right;\">\n",
              "      <th></th>\n",
              "      <th>actuals</th>\n",
              "      <th>pred_prob</th>\n",
              "      <th>0.0</th>\n",
              "      <th>0.05</th>\n",
              "      <th>0.1</th>\n",
              "      <th>0.15</th>\n",
              "      <th>0.2</th>\n",
              "      <th>0.25</th>\n",
              "      <th>0.3</th>\n",
              "      <th>0.35</th>\n",
              "      <th>0.4</th>\n",
              "      <th>0.45</th>\n",
              "      <th>0.5</th>\n",
              "      <th>0.55</th>\n",
              "      <th>0.6</th>\n",
              "      <th>0.65</th>\n",
              "      <th>0.7</th>\n",
              "      <th>0.75</th>\n",
              "      <th>0.8</th>\n",
              "      <th>0.85</th>\n",
              "      <th>0.9</th>\n",
              "      <th>0.95</th>\n",
              "    </tr>\n",
              "    <tr>\n",
              "      <th>Lead Number</th>\n",
              "      <th></th>\n",
              "      <th></th>\n",
              "      <th></th>\n",
              "      <th></th>\n",
              "      <th></th>\n",
              "      <th></th>\n",
              "      <th></th>\n",
              "      <th></th>\n",
              "      <th></th>\n",
              "      <th></th>\n",
              "      <th></th>\n",
              "      <th></th>\n",
              "      <th></th>\n",
              "      <th></th>\n",
              "      <th></th>\n",
              "      <th></th>\n",
              "      <th></th>\n",
              "      <th></th>\n",
              "      <th></th>\n",
              "      <th></th>\n",
              "      <th></th>\n",
              "      <th></th>\n",
              "    </tr>\n",
              "  </thead>\n",
              "  <tbody>\n",
              "    <tr>\n",
              "      <th>619003</th>\n",
              "      <td>1</td>\n",
              "      <td>0.355466</td>\n",
              "      <td>1</td>\n",
              "      <td>1</td>\n",
              "      <td>1</td>\n",
              "      <td>1</td>\n",
              "      <td>1</td>\n",
              "      <td>1</td>\n",
              "      <td>1</td>\n",
              "      <td>1</td>\n",
              "      <td>0</td>\n",
              "      <td>0</td>\n",
              "      <td>0</td>\n",
              "      <td>0</td>\n",
              "      <td>0</td>\n",
              "      <td>0</td>\n",
              "      <td>0</td>\n",
              "      <td>0</td>\n",
              "      <td>0</td>\n",
              "      <td>0</td>\n",
              "      <td>0</td>\n",
              "      <td>0</td>\n",
              "    </tr>\n",
              "    <tr>\n",
              "      <th>636884</th>\n",
              "      <td>1</td>\n",
              "      <td>0.936233</td>\n",
              "      <td>1</td>\n",
              "      <td>1</td>\n",
              "      <td>1</td>\n",
              "      <td>1</td>\n",
              "      <td>1</td>\n",
              "      <td>1</td>\n",
              "      <td>1</td>\n",
              "      <td>1</td>\n",
              "      <td>1</td>\n",
              "      <td>1</td>\n",
              "      <td>1</td>\n",
              "      <td>1</td>\n",
              "      <td>1</td>\n",
              "      <td>1</td>\n",
              "      <td>1</td>\n",
              "      <td>1</td>\n",
              "      <td>1</td>\n",
              "      <td>1</td>\n",
              "      <td>1</td>\n",
              "      <td>0</td>\n",
              "    </tr>\n",
              "    <tr>\n",
              "      <th>590281</th>\n",
              "      <td>1</td>\n",
              "      <td>0.756687</td>\n",
              "      <td>1</td>\n",
              "      <td>1</td>\n",
              "      <td>1</td>\n",
              "      <td>1</td>\n",
              "      <td>1</td>\n",
              "      <td>1</td>\n",
              "      <td>1</td>\n",
              "      <td>1</td>\n",
              "      <td>1</td>\n",
              "      <td>1</td>\n",
              "      <td>1</td>\n",
              "      <td>1</td>\n",
              "      <td>1</td>\n",
              "      <td>1</td>\n",
              "      <td>1</td>\n",
              "      <td>1</td>\n",
              "      <td>0</td>\n",
              "      <td>0</td>\n",
              "      <td>0</td>\n",
              "      <td>0</td>\n",
              "    </tr>\n",
              "    <tr>\n",
              "      <th>579892</th>\n",
              "      <td>0</td>\n",
              "      <td>0.101420</td>\n",
              "      <td>1</td>\n",
              "      <td>1</td>\n",
              "      <td>1</td>\n",
              "      <td>0</td>\n",
              "      <td>0</td>\n",
              "      <td>0</td>\n",
              "      <td>0</td>\n",
              "      <td>0</td>\n",
              "      <td>0</td>\n",
              "      <td>0</td>\n",
              "      <td>0</td>\n",
              "      <td>0</td>\n",
              "      <td>0</td>\n",
              "      <td>0</td>\n",
              "      <td>0</td>\n",
              "      <td>0</td>\n",
              "      <td>0</td>\n",
              "      <td>0</td>\n",
              "      <td>0</td>\n",
              "      <td>0</td>\n",
              "    </tr>\n",
              "    <tr>\n",
              "      <th>617929</th>\n",
              "      <td>1</td>\n",
              "      <td>0.855000</td>\n",
              "      <td>1</td>\n",
              "      <td>1</td>\n",
              "      <td>1</td>\n",
              "      <td>1</td>\n",
              "      <td>1</td>\n",
              "      <td>1</td>\n",
              "      <td>1</td>\n",
              "      <td>1</td>\n",
              "      <td>1</td>\n",
              "      <td>1</td>\n",
              "      <td>1</td>\n",
              "      <td>1</td>\n",
              "      <td>1</td>\n",
              "      <td>1</td>\n",
              "      <td>1</td>\n",
              "      <td>1</td>\n",
              "      <td>1</td>\n",
              "      <td>1</td>\n",
              "      <td>0</td>\n",
              "      <td>0</td>\n",
              "    </tr>\n",
              "  </tbody>\n",
              "</table>\n",
              "</div>"
            ],
            "text/plain": [
              "             actuals  pred_prob  0.0  0.05  0.1  0.15  0.2  0.25  0.3  0.35  \\\n",
              "Lead Number                                                                   \n",
              "619003             1   0.355466    1     1    1     1    1     1    1     1   \n",
              "636884             1   0.936233    1     1    1     1    1     1    1     1   \n",
              "590281             1   0.756687    1     1    1     1    1     1    1     1   \n",
              "579892             0   0.101420    1     1    1     0    0     0    0     0   \n",
              "617929             1   0.855000    1     1    1     1    1     1    1     1   \n",
              "\n",
              "             0.4  0.45  0.5  0.55  0.6  0.65  0.7  0.75  0.8  0.85  0.9  0.95  \n",
              "Lead Number                                                                    \n",
              "619003         0     0    0     0    0     0    0     0    0     0    0     0  \n",
              "636884         1     1    1     1    1     1    1     1    1     1    1     0  \n",
              "590281         1     1    1     1    1     1    1     1    0     0    0     0  \n",
              "579892         0     0    0     0    0     0    0     0    0     0    0     0  \n",
              "617929         1     1    1     1    1     1    1     1    1     1    0     0  "
            ]
          },
          "metadata": {
            "tags": []
          },
          "execution_count": 90
        }
      ]
    },
    {
      "cell_type": "code",
      "metadata": {
        "id": "uWt2s8LqJ9lj",
        "colab": {
          "base_uri": "https://localhost:8080/",
          "height": 669
        },
        "outputId": "23340404-d27c-4534-de57-c8d34d243d15"
      },
      "source": [
        "# Now let's calculate accuracy sensitivity and specificity for various probability cutoffs.\n",
        "cutoff_df = pd.DataFrame(columns = ['prob','accuracy','sensi','speci'])\n",
        "\n",
        "num = [0.0,0.1,0.2,0.3,0.4,0.5,0.6,0.7,0.8,0.9]\n",
        "for i in numbers:\n",
        "    cm1 = metrics.confusion_matrix(y_test_pred.actuals, y_test_pred[i] )\n",
        "    total1=sum(sum(cm1))\n",
        "    accuracy = (cm1[0,0]+cm1[1,1])/total1\n",
        "    \n",
        "    speci = cm1[0,0]/(cm1[0,0]+cm1[0,1])\n",
        "    sensi = cm1[1,1]/(cm1[1,0]+cm1[1,1])\n",
        "    cutoff_df.loc[i] =[ i ,accuracy,sensi,speci]\n",
        "\n",
        "cutoff_df"
      ],
      "execution_count": null,
      "outputs": [
        {
          "output_type": "execute_result",
          "data": {
            "text/html": [
              "<div>\n",
              "<style scoped>\n",
              "    .dataframe tbody tr th:only-of-type {\n",
              "        vertical-align: middle;\n",
              "    }\n",
              "\n",
              "    .dataframe tbody tr th {\n",
              "        vertical-align: top;\n",
              "    }\n",
              "\n",
              "    .dataframe thead th {\n",
              "        text-align: right;\n",
              "    }\n",
              "</style>\n",
              "<table border=\"1\" class=\"dataframe\">\n",
              "  <thead>\n",
              "    <tr style=\"text-align: right;\">\n",
              "      <th></th>\n",
              "      <th>prob</th>\n",
              "      <th>accuracy</th>\n",
              "      <th>sensi</th>\n",
              "      <th>speci</th>\n",
              "    </tr>\n",
              "  </thead>\n",
              "  <tbody>\n",
              "    <tr>\n",
              "      <th>0.00</th>\n",
              "      <td>0.00</td>\n",
              "      <td>0.395022</td>\n",
              "      <td>1.000000</td>\n",
              "      <td>0.000000</td>\n",
              "    </tr>\n",
              "    <tr>\n",
              "      <th>0.05</th>\n",
              "      <td>0.05</td>\n",
              "      <td>0.528139</td>\n",
              "      <td>0.991781</td>\n",
              "      <td>0.225403</td>\n",
              "    </tr>\n",
              "    <tr>\n",
              "      <th>0.10</th>\n",
              "      <td>0.10</td>\n",
              "      <td>0.638528</td>\n",
              "      <td>0.978082</td>\n",
              "      <td>0.416816</td>\n",
              "    </tr>\n",
              "    <tr>\n",
              "      <th>0.15</th>\n",
              "      <td>0.15</td>\n",
              "      <td>0.725108</td>\n",
              "      <td>0.950685</td>\n",
              "      <td>0.577818</td>\n",
              "    </tr>\n",
              "    <tr>\n",
              "      <th>0.20</th>\n",
              "      <td>0.20</td>\n",
              "      <td>0.772367</td>\n",
              "      <td>0.931507</td>\n",
              "      <td>0.668456</td>\n",
              "    </tr>\n",
              "    <tr>\n",
              "      <th>0.25</th>\n",
              "      <td>0.25</td>\n",
              "      <td>0.790404</td>\n",
              "      <td>0.894977</td>\n",
              "      <td>0.722123</td>\n",
              "    </tr>\n",
              "    <tr>\n",
              "      <th>0.30</th>\n",
              "      <td>0.30</td>\n",
              "      <td>0.810606</td>\n",
              "      <td>0.852055</td>\n",
              "      <td>0.783542</td>\n",
              "    </tr>\n",
              "    <tr>\n",
              "      <th>0.35</th>\n",
              "      <td>0.35</td>\n",
              "      <td>0.815296</td>\n",
              "      <td>0.812785</td>\n",
              "      <td>0.816935</td>\n",
              "    </tr>\n",
              "    <tr>\n",
              "      <th>0.40</th>\n",
              "      <td>0.40</td>\n",
              "      <td>0.815657</td>\n",
              "      <td>0.774429</td>\n",
              "      <td>0.842576</td>\n",
              "    </tr>\n",
              "    <tr>\n",
              "      <th>0.45</th>\n",
              "      <td>0.45</td>\n",
              "      <td>0.815657</td>\n",
              "      <td>0.729680</td>\n",
              "      <td>0.871795</td>\n",
              "    </tr>\n",
              "    <tr>\n",
              "      <th>0.50</th>\n",
              "      <td>0.50</td>\n",
              "      <td>0.813853</td>\n",
              "      <td>0.690411</td>\n",
              "      <td>0.894454</td>\n",
              "    </tr>\n",
              "    <tr>\n",
              "      <th>0.55</th>\n",
              "      <td>0.55</td>\n",
              "      <td>0.807359</td>\n",
              "      <td>0.647489</td>\n",
              "      <td>0.911747</td>\n",
              "    </tr>\n",
              "    <tr>\n",
              "      <th>0.60</th>\n",
              "      <td>0.60</td>\n",
              "      <td>0.791126</td>\n",
              "      <td>0.571689</td>\n",
              "      <td>0.934407</td>\n",
              "    </tr>\n",
              "    <tr>\n",
              "      <th>0.65</th>\n",
              "      <td>0.65</td>\n",
              "      <td>0.785354</td>\n",
              "      <td>0.533333</td>\n",
              "      <td>0.949911</td>\n",
              "    </tr>\n",
              "    <tr>\n",
              "      <th>0.70</th>\n",
              "      <td>0.70</td>\n",
              "      <td>0.769841</td>\n",
              "      <td>0.484018</td>\n",
              "      <td>0.956470</td>\n",
              "    </tr>\n",
              "    <tr>\n",
              "      <th>0.75</th>\n",
              "      <td>0.75</td>\n",
              "      <td>0.761544</td>\n",
              "      <td>0.446575</td>\n",
              "      <td>0.967203</td>\n",
              "    </tr>\n",
              "    <tr>\n",
              "      <th>0.80</th>\n",
              "      <td>0.80</td>\n",
              "      <td>0.744949</td>\n",
              "      <td>0.396347</td>\n",
              "      <td>0.972570</td>\n",
              "    </tr>\n",
              "    <tr>\n",
              "      <th>0.85</th>\n",
              "      <td>0.85</td>\n",
              "      <td>0.725108</td>\n",
              "      <td>0.336073</td>\n",
              "      <td>0.979129</td>\n",
              "    </tr>\n",
              "    <tr>\n",
              "      <th>0.90</th>\n",
              "      <td>0.90</td>\n",
              "      <td>0.694084</td>\n",
              "      <td>0.242009</td>\n",
              "      <td>0.989267</td>\n",
              "    </tr>\n",
              "    <tr>\n",
              "      <th>0.95</th>\n",
              "      <td>0.95</td>\n",
              "      <td>0.665945</td>\n",
              "      <td>0.159817</td>\n",
              "      <td>0.996422</td>\n",
              "    </tr>\n",
              "  </tbody>\n",
              "</table>\n",
              "</div>"
            ],
            "text/plain": [
              "      prob  accuracy     sensi     speci\n",
              "0.00  0.00  0.395022  1.000000  0.000000\n",
              "0.05  0.05  0.528139  0.991781  0.225403\n",
              "0.10  0.10  0.638528  0.978082  0.416816\n",
              "0.15  0.15  0.725108  0.950685  0.577818\n",
              "0.20  0.20  0.772367  0.931507  0.668456\n",
              "0.25  0.25  0.790404  0.894977  0.722123\n",
              "0.30  0.30  0.810606  0.852055  0.783542\n",
              "0.35  0.35  0.815296  0.812785  0.816935\n",
              "0.40  0.40  0.815657  0.774429  0.842576\n",
              "0.45  0.45  0.815657  0.729680  0.871795\n",
              "0.50  0.50  0.813853  0.690411  0.894454\n",
              "0.55  0.55  0.807359  0.647489  0.911747\n",
              "0.60  0.60  0.791126  0.571689  0.934407\n",
              "0.65  0.65  0.785354  0.533333  0.949911\n",
              "0.70  0.70  0.769841  0.484018  0.956470\n",
              "0.75  0.75  0.761544  0.446575  0.967203\n",
              "0.80  0.80  0.744949  0.396347  0.972570\n",
              "0.85  0.85  0.725108  0.336073  0.979129\n",
              "0.90  0.90  0.694084  0.242009  0.989267\n",
              "0.95  0.95  0.665945  0.159817  0.996422"
            ]
          },
          "metadata": {
            "tags": []
          },
          "execution_count": 91
        }
      ]
    },
    {
      "cell_type": "code",
      "metadata": {
        "id": "diIjISp2J-ym",
        "colab": {
          "base_uri": "https://localhost:8080/",
          "height": 334
        },
        "outputId": "03612a2b-85da-491f-f2c4-465bbdff4391"
      },
      "source": [
        "# Let's plot accuracy sensitivity and specificity for various probabilities.\n",
        "cutoff_df.plot(kind = \"line\", x='prob', y=['accuracy','sensi','speci'], figsize=(10,5))\n",
        "plt.show()"
      ],
      "execution_count": null,
      "outputs": [
        {
          "output_type": "display_data",
          "data": {
            "image/png": "[encoded data removed]",
            "text/plain": [
              "<Figure size 720x360 with 1 Axes>"
            ]
          },
          "metadata": {
            "tags": [],
            "needs_background": "light"
          }
        }
      ]
    },
    {
      "cell_type": "code",
      "metadata": {
        "id": "bnL-5b3oJ-b0",
        "colab": {
          "base_uri": "https://localhost:8080/",
          "height": 235
        },
        "outputId": "ec9e668f-14b5-4341-dbdf-297e5f39fd5e"
      },
      "source": [
        "# From the above graph, we see that the optimal cut-off is at 0.35\n",
        "y_test_pred['optimum_predictions'] = y_test_pred[0.35]\n",
        "\n",
        "y_test_pred = y_test_pred[['actuals', 'optimum_predictions', 'pred_prob']]\n",
        "y_test_pred.head()"
      ],
      "execution_count": null,
      "outputs": [
        {
          "output_type": "execute_result",
          "data": {
            "text/html": [
              "<div>\n",
              "<style scoped>\n",
              "    .dataframe tbody tr th:only-of-type {\n",
              "        vertical-align: middle;\n",
              "    }\n",
              "\n",
              "    .dataframe tbody tr th {\n",
              "        vertical-align: top;\n",
              "    }\n",
              "\n",
              "    .dataframe thead th {\n",
              "        text-align: right;\n",
              "    }\n",
              "</style>\n",
              "<table border=\"1\" class=\"dataframe\">\n",
              "  <thead>\n",
              "    <tr style=\"text-align: right;\">\n",
              "      <th></th>\n",
              "      <th>actuals</th>\n",
              "      <th>optimum_predictions</th>\n",
              "      <th>pred_prob</th>\n",
              "    </tr>\n",
              "    <tr>\n",
              "      <th>Lead Number</th>\n",
              "      <th></th>\n",
              "      <th></th>\n",
              "      <th></th>\n",
              "    </tr>\n",
              "  </thead>\n",
              "  <tbody>\n",
              "    <tr>\n",
              "      <th>619003</th>\n",
              "      <td>1</td>\n",
              "      <td>1</td>\n",
              "      <td>0.355466</td>\n",
              "    </tr>\n",
              "    <tr>\n",
              "      <th>636884</th>\n",
              "      <td>1</td>\n",
              "      <td>1</td>\n",
              "      <td>0.936233</td>\n",
              "    </tr>\n",
              "    <tr>\n",
              "      <th>590281</th>\n",
              "      <td>1</td>\n",
              "      <td>1</td>\n",
              "      <td>0.756687</td>\n",
              "    </tr>\n",
              "    <tr>\n",
              "      <th>579892</th>\n",
              "      <td>0</td>\n",
              "      <td>0</td>\n",
              "      <td>0.101420</td>\n",
              "    </tr>\n",
              "    <tr>\n",
              "      <th>617929</th>\n",
              "      <td>1</td>\n",
              "      <td>1</td>\n",
              "      <td>0.855000</td>\n",
              "    </tr>\n",
              "  </tbody>\n",
              "</table>\n",
              "</div>"
            ],
            "text/plain": [
              "             actuals  optimum_predictions  pred_prob\n",
              "Lead Number                                         \n",
              "619003             1                    1   0.355466\n",
              "636884             1                    1   0.936233\n",
              "590281             1                    1   0.756687\n",
              "579892             0                    0   0.101420\n",
              "617929             1                    1   0.855000"
            ]
          },
          "metadata": {
            "tags": []
          },
          "execution_count": 93
        }
      ]
    },
    {
      "cell_type": "code",
      "metadata": {
        "id": "mRhfJNssi1lD",
        "colab": {
          "base_uri": "https://localhost:8080/"
        },
        "outputId": "bcd920ce-7e54-483a-97f9-1e064eca2781"
      },
      "source": [
        "print(classification_report(y_test_pred.actuals, y_test_pred.optimum_predictions))"
      ],
      "execution_count": null,
      "outputs": [
        {
          "output_type": "stream",
          "text": [
            "              precision    recall  f1-score   support\n",
            "\n",
            "           0       0.87      0.82      0.84      1677\n",
            "           1       0.74      0.81      0.78      1095\n",
            "\n",
            "    accuracy                           0.82      2772\n",
            "   macro avg       0.81      0.81      0.81      2772\n",
            "weighted avg       0.82      0.82      0.82      2772\n",
            "\n"
          ],
          "name": "stdout"
        }
      ]
    },
    {
      "cell_type": "markdown",
      "metadata": {
        "id": "JRTCjWZzKVIK"
      },
      "source": [
        "#### We see that the accuracy of the model on the test set is 82%"
      ]
    },
    {
      "cell_type": "code",
      "metadata": {
        "id": "ykGhusYeYCoe",
        "colab": {
          "base_uri": "https://localhost:8080/"
        },
        "outputId": "7dd337a0-9ac6-4a4b-dfe8-17f2f244c5b9"
      },
      "source": [
        "# Confusion matrix\n",
        "confusion_mat = metrics.confusion_matrix(y_test_pred.actuals, y_test_pred.optimum_predictions )\n",
        "confusion_mat"
      ],
      "execution_count": null,
      "outputs": [
        {
          "output_type": "execute_result",
          "data": {
            "text/plain": [
              "array([[1370,  307],\n",
              "       [ 205,  890]])"
            ]
          },
          "metadata": {
            "tags": []
          },
          "execution_count": 95
        }
      ]
    },
    {
      "cell_type": "code",
      "metadata": {
        "id": "6GzNOFJDZXsZ"
      },
      "source": [
        "TP = confusion_mat[1,1] # true positive \n",
        "TN = confusion_mat[0,0] # true negatives\n",
        "FP = confusion_mat[0,1] # false positives\n",
        "FN = confusion_mat[1,0] # false negatives"
      ],
      "execution_count": null,
      "outputs": []
    },
    {
      "cell_type": "code",
      "metadata": {
        "id": "UZv3TOb7Zgg6",
        "colab": {
          "base_uri": "https://localhost:8080/"
        },
        "outputId": "1cb1f4b6-f42c-43ee-a42b-5fb0d9f87cd9"
      },
      "source": [
        "# Sensitivity\n",
        "round(TP / (TP+FN), 2)"
      ],
      "execution_count": null,
      "outputs": [
        {
          "output_type": "execute_result",
          "data": {
            "text/plain": [
              "0.81"
            ]
          },
          "metadata": {
            "tags": []
          },
          "execution_count": 97
        }
      ]
    },
    {
      "cell_type": "markdown",
      "metadata": {
        "id": "YG_xtkavZ6cF"
      },
      "source": [
        "We see that the sensitivity of the model on the test set is 81%"
      ]
    },
    {
      "cell_type": "code",
      "metadata": {
        "id": "mdFUSjrlaKYS",
        "colab": {
          "base_uri": "https://localhost:8080/"
        },
        "outputId": "28ef22db-8e7b-4471-efb8-e50f31b0f416"
      },
      "source": [
        "# Specificity\n",
        "round(TN / float(TN+FP), 2)"
      ],
      "execution_count": null,
      "outputs": [
        {
          "output_type": "execute_result",
          "data": {
            "text/plain": [
              "0.82"
            ]
          },
          "metadata": {
            "tags": []
          },
          "execution_count": 98
        }
      ]
    },
    {
      "cell_type": "markdown",
      "metadata": {
        "id": "jIfoBzkpaqcb"
      },
      "source": [
        "We see that the specificity of the model on the test set is 82%"
      ]
    },
    {
      "cell_type": "markdown",
      "metadata": {
        "id": "_qcI_cXYYBIX"
      },
      "source": [
        "Accuracy: 82%\n",
        "\n",
        "Sensitivity: 81%\n",
        "\n",
        "Specificity: 82%\n",
        "\n",
        "F1 score: 78%\n",
        "\n",
        "Conversion Rate (Precision): 74%"
      ]
    },
    {
      "cell_type": "markdown",
      "metadata": {
        "id": "BbEQGWaxtfcw"
      },
      "source": [
        "#Fin!"
      ]
    }
  ]
}